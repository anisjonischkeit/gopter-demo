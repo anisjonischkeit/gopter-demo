{
 "cells": [
  {
   "cell_type": "markdown",
   "metadata": {
    "slideshow": {
     "slide_type": "slide"
    }
   },
   "source": [
    "# Property Based Testing in Go"
   ]
  },
  {
   "cell_type": "markdown",
   "metadata": {
    "slideshow": {
     "slide_type": "slide"
    }
   },
   "source": [
    "## What is property based testing\n",
    "* rather than testing based on examples, we find properties that should hold for a piece of functionality.\n",
    "* to prove these properties hold, we then generate lots of sample data to test against the property"
   ]
  },
  {
   "cell_type": "markdown",
   "metadata": {
    "slideshow": {
     "slide_type": "fragment"
    }
   },
   "source": [
    "## Advantages of property based testing\n",
    "* Much larger input scope covered ~> gives confidence that edge cases are also covered "
   ]
  },
  {
   "cell_type": "markdown",
   "metadata": {
    "slideshow": {
     "slide_type": "slide"
    }
   },
   "source": [
    "## Examples of common properties\n",
    "\n",
    "- Associative – The order in which opperations are applied doesn't matter\n",
    "    - Example:\n",
    "        - a \\* (b \\* c) == (a \\* b) \\* c\n",
    "\n",
    "\n",
    "- Commutative – The order in which arguments are applied doesn't matter\n",
    "    - Example:\n",
    "        - a + b == b + a    \n",
    "\n",
    "\n",
    "- Distributive\n",
    "    - Example:\n",
    "        - a \\* (b + c) = ab + ac\n",
    "        - title.ToUpper() + author.ToUpper() = (title + author).ToUpper()\n",
    "\n",
    "\n",
    "- Idempotent – applying a function any amount of times will yield the same result\n",
    "    - Example:\n",
    "        - terraform apply == terraform apply `and then` terraform apply"
   ]
  },
  {
   "cell_type": "markdown",
   "metadata": {
    "slideshow": {
     "slide_type": "subslide"
    }
   },
   "source": [
    "- Identity – There is an identity value that you can apply to any other value to return the same value [a . i == a]\n",
    "    - Example:\n",
    "        - a + 0 == a\n",
    "        - a * 1 == a\n",
    "\n",
    "\n",
    "- Bilbo Property (aka, There And Back Again) - You can get back to the original state\n",
    "    - Example: \n",
    "        - list.Reverse().Reverse() == list\n",
    "        - a == db.Set(a) `and then` db.Get(a)"
   ]
  },
  {
   "cell_type": "markdown",
   "metadata": {
    "slideshow": {
     "slide_type": "slide"
    }
   },
   "source": [
    "## An example"
   ]
  },
  {
   "cell_type": "code",
   "execution_count": 8,
   "metadata": {
    "slideshow": {
     "slide_type": "fragment"
    }
   },
   "outputs": [],
   "source": [
    "func Add(a, b int) int {\n",
    "    return a + b\n",
    "}"
   ]
  },
  {
   "cell_type": "markdown",
   "metadata": {
    "slideshow": {
     "slide_type": "slide"
    }
   },
   "source": [
    "## How can we test this?\n",
    "* we could give it some example scenarios\n",
    "    * we have to know the answers to the scenarios before hand\n",
    "    * we end up with a very small input set\n",
    "    * is saying that 1+2=3 and 3+4=7 really describing what addition is?"
   ]
  },
  {
   "cell_type": "markdown",
   "metadata": {
    "slideshow": {
     "slide_type": "slide"
    }
   },
   "source": [
    "## What do we know about addition?\n",
    "* Commutative - a + b == b + a\n",
    "* Associative - (a + b) + c == a + (b + c)\n",
    "* Identity - a + 0 == a"
   ]
  },
  {
   "cell_type": "code",
   "execution_count": 9,
   "metadata": {
    "slideshow": {
     "slide_type": "slide"
    }
   },
   "outputs": [],
   "source": [
    "import (   \n",
    "    \"github.com/leanovate/gopter\"\n",
    "    \"github.com/leanovate/gopter/gen\"\n",
    "    \"github.com/leanovate/gopter/prop\"\n",
    ")"
   ]
  },
  {
   "cell_type": "code",
   "execution_count": 10,
   "metadata": {
    "slideshow": {
     "slide_type": "subslide"
    }
   },
   "outputs": [],
   "source": [
    "properties := gopter.NewProperties(nil)"
   ]
  },
  {
   "cell_type": "code",
   "execution_count": 11,
   "metadata": {
    "slideshow": {
     "slide_type": "fragment"
    }
   },
   "outputs": [],
   "source": [
    "properties.Property(\"Adding is commutative\", prop.ForAll(\n",
    "    func(a, b int) bool {\n",
    "        return Add(a, b) == Add(b, a)\n",
    "    },\n",
    "    gen.Int(), gen.Int(),\n",
    "))"
   ]
  },
  {
   "cell_type": "code",
   "execution_count": 12,
   "metadata": {
    "slideshow": {
     "slide_type": "fragment"
    }
   },
   "outputs": [],
   "source": [
    "properties.Property(\"Adding is associative\", prop.ForAll(\n",
    "    func(a, b, c int) bool {\n",
    "        return Add(a, Add(b, c)) == Add(Add(a, b), c)\n",
    "    },\n",
    "    gen.Int(), gen.Int(), gen.Int(),\n",
    "))"
   ]
  },
  {
   "cell_type": "code",
   "execution_count": 13,
   "metadata": {
    "slideshow": {
     "slide_type": "fragment"
    }
   },
   "outputs": [],
   "source": [
    "properties.Property(\"Adding 0 will always yield the same result\", prop.ForAll(\n",
    "    func(v int) bool {\n",
    "        return Add(v, 0) == v \n",
    "    },\n",
    "    gen.Int(),\n",
    "))"
   ]
  },
  {
   "cell_type": "code",
   "execution_count": 14,
   "metadata": {
    "slideshow": {
     "slide_type": "fragment"
    }
   },
   "outputs": [
    {
     "name": "stdout",
     "output_type": "stream",
     "text": [
      "+ Adding is commutative: OK, passed 100 tests.\n",
      "+ Adding is associative: OK, passed 100 tests.\n",
      "+ Adding 0 will always yield the same result: OK, passed 100 tests.\n"
     ]
    },
    {
     "data": {
      "text/plain": [
       "true"
      ]
     },
     "execution_count": 14,
     "metadata": {},
     "output_type": "execute_result"
    }
   ],
   "source": [
    "properties.Run(gopter.ConsoleReporter(false))"
   ]
  },
  {
   "cell_type": "code",
   "execution_count": 59,
   "metadata": {
    "slideshow": {
     "slide_type": "slide"
    }
   },
   "outputs": [],
   "source": [
    "func Add(a, b int) int {\n",
    "    return a * b\n",
    "}"
   ]
  },
  {
   "cell_type": "code",
   "execution_count": 60,
   "metadata": {
    "slideshow": {
     "slide_type": "fragment"
    }
   },
   "outputs": [
    {
     "name": "stdout",
     "output_type": "stream",
     "text": [
      "+ Adding is commutative: OK, passed 100 tests.\n",
      "Elapsed time: 675.4µs\n",
      "+ Adding is associative: OK, passed 100 tests.\n",
      "Elapsed time: 1.3393ms\n",
      "! Adding 0 will always yield the same result: Falsified after 0 passed\n",
      "   tests.\n",
      "ARG_0: 1\n",
      "ARG_0_ORIGINAL (30 shrinks): 563953682\n",
      "Elapsed time: 457.7µs\n"
     ]
    },
    {
     "data": {
      "text/plain": [
       "false"
      ]
     },
     "execution_count": 60,
     "metadata": {},
     "output_type": "execute_result"
    }
   ],
   "source": [
    "properties.Run(gopter.ConsoleReporter(false))"
   ]
  },
  {
   "cell_type": "markdown",
   "metadata": {},
   "source": [
    "**Note:** It's probably still a good idea to have a couple of examples along with these tests. Property based tests shouldn't be complementary to example based tests"
   ]
  },
  {
   "cell_type": "markdown",
   "metadata": {
    "slideshow": {
     "slide_type": "slide"
    }
   },
   "source": [
    "## A real world example"
   ]
  },
  {
   "cell_type": "markdown",
   "metadata": {
    "slideshow": {
     "slide_type": "fragment"
    }
   },
   "source": [
    "### A document store"
   ]
  },
  {
   "cell_type": "code",
   "execution_count": 294,
   "metadata": {
    "slideshow": {
     "slide_type": "fragment"
    }
   },
   "outputs": [],
   "source": [
    "type DocumentStore interface {\n",
    "    Add(identifier string, data string)\n",
    "    Read(identifier string) (string, bool)\n",
    "}"
   ]
  },
  {
   "cell_type": "code",
   "execution_count": 295,
   "metadata": {
    "slideshow": {
     "slide_type": "skip"
    }
   },
   "outputs": [],
   "source": [
    "import \"unicode/utf8\"\n",
    "\n",
    "type CrapDB struct {\n",
    "    data map[string]string\n",
    "}\n",
    "\n",
    "func (s CrapDB) Add(identifier string, data string) {\n",
    "    if val, ok := s.data[identifier]; ok {\n",
    "        panic(\"failed to insert: identifier already in use\")\n",
    "        return \n",
    "    }\n",
    "    \n",
    "    if utf8.RuneCountInString(identifier) > 36 {\n",
    "        panic(\"failed to insert: your identifier should not to be longer than 36 characters (the length of a uuid)\")\n",
    "    }\n",
    "    \n",
    "    s.data[identifier] = data\n",
    "}\n",
    "\n",
    "func (s CrapDB) Read(identifier string) (string, bool) {\n",
    "    return s.data[identifier]\n",
    "}"
   ]
  },
  {
   "cell_type": "code",
   "execution_count": 296,
   "metadata": {
    "slideshow": {
     "slide_type": "fragment"
    }
   },
   "outputs": [],
   "source": [
    "type StorageService struct {\n",
    "    db DocumentStore\n",
    "}\n",
    "\n",
    "func NewStorageService(db DocumentStore) *StorageService {\n",
    "    return &StorageService{\n",
    "        db: db,\n",
    "    }\n",
    "}\n",
    "\n",
    "func (s *StorageService) Add(identifier string, data string) {\n",
    "    s.db.Add(identifier, data)\n",
    "}\n",
    "\n",
    "func (s *StorageService) Read(identifier string) (string, bool) {\n",
    "    return s.db.Read(identifier)\n",
    "}"
   ]
  },
  {
   "cell_type": "code",
   "execution_count": 297,
   "metadata": {
    "slideshow": {
     "slide_type": "slide"
    }
   },
   "outputs": [],
   "source": [
    "import \"github.com/leanovate/gopter/arbitrary\"\n",
    "\n",
    "properties := gopter.NewProperties(nil)\n",
    "arbitraries := arbitrary.DefaultArbitraries()\n",
    "\n",
    "properties.Property(\"Getting an inserted entry should return that entry\", arbitraries.ForAll(\n",
    "    func(identifier string, data string, db CrapDB) string {\n",
    "        store := NewStorageService(db)\n",
    "        \n",
    "        store.Add(identifier, data)\n",
    "        storedData, _ := store.Read(identifier)\n",
    "        \n",
    "        if storedData != data {\n",
    "            return \"stored data is \" + storedData + \", expected \" + data\n",
    "        }\n",
    "        return \"\"\n",
    "    },\n",
    "))"
   ]
  },
  {
   "cell_type": "code",
   "execution_count": 299,
   "metadata": {
    "slideshow": {
     "slide_type": "fragment"
    }
   },
   "outputs": [
    {
     "name": "stdout",
     "output_type": "stream",
     "text": [
      "! Getting an inserted entry should return that entry: Error on property\n",
      "   evaluation after 2 passed tests: Check paniced: failed to insert:\n",
      "   identifier already in use\n",
      "ARG_0: \n",
      "ARG_1: 񎷲\n",
      "ARG_2: {𒀸data:map[:񲨊]}\n"
     ]
    },
    {
     "data": {
      "text/plain": [
       "false"
      ]
     },
     "execution_count": 299,
     "metadata": {},
     "output_type": "execute_result"
    }
   ],
   "source": [
    "properties.Run(gopter.ConsoleReporter(false))"
   ]
  },
  {
   "cell_type": "code",
   "execution_count": 267,
   "metadata": {
    "slideshow": {
     "slide_type": "slide"
    }
   },
   "outputs": [],
   "source": [
    "type StorageService struct {\n",
    "    db DocumentStore\n",
    "}\n",
    "\n",
    "func NewStorageService(db DocumentStore) *StorageService {\n",
    "    return &StorageService{\n",
    "        db: db,\n",
    "    }\n",
    "}\n",
    "\n",
    "func (s *StorageService) Add(identifier string, data string) bool {\n",
    "    _, exists := s.db.Read(identifier)\n",
    "    \n",
    "    if !exists {\n",
    "        s.db.Add(identifier, data)\n",
    "        return true\n",
    "    }\n",
    "    \n",
    "    return false\n",
    "}\n",
    "\n",
    "func (s *StorageService) Read(identifier string) (string, bool) {\n",
    "    return s.db.Read(identifier)\n",
    "}"
   ]
  },
  {
   "cell_type": "code",
   "execution_count": 288,
   "metadata": {
    "slideshow": {
     "slide_type": "slide"
    }
   },
   "outputs": [],
   "source": [
    "properties := gopter.NewProperties(nil)\n",
    "arbitraries := arbitrary.DefaultArbitraries()\n",
    "\n",
    "properties.Property(\"Getting an inserted entry should return that entry\", arbitraries.ForAll(\n",
    "    func(identifier string, data string, db CrapDB) string {\n",
    "        store := NewStorageService(db)\n",
    "        \n",
    "        ok := store.Add(identifier, data)\n",
    "        if !ok {\n",
    "            return \"\"\n",
    "        }\n",
    "        \n",
    "        storedData, _ := store.Read(identifier)\n",
    "        \n",
    "        if storedData != data {\n",
    "            return \"stored data is \" + storedData + \", expected \" + data\n",
    "        }\n",
    "        return \"\"\n",
    "    },\n",
    "))"
   ]
  },
  {
   "cell_type": "code",
   "execution_count": 289,
   "metadata": {
    "slideshow": {
     "slide_type": "fragment"
    }
   },
   "outputs": [
    {
     "name": "stdout",
     "output_type": "stream",
     "text": [
      "! Getting an inserted entry should return that entry: Error on property\n",
      "   evaluation after 43 passed tests: Check paniced: failed to insert: your\n",
      "   identifier should not to be longer than 36 characters (the length of a\n",
      "   uuid)\n",
      "ARG_0:\n",
      "   񭞁񱃾􀨲󟩍뵓󴣾􉢇󞷆򴖾򈀴򨐛򡘏𬦐󌬂򲲼󴊩򞒳󋦢���\n",
      "  �񉒾񢕺𪪋󊒻󛼮󏓝񊤬񱅑󜅉􅒌𲙡󆅆񼵑򂲃𚘮򷲋𥚶𹒃\n",
      "ARG_0_ORIGINAL (2 shrinks):\n",
      "   򔪯񭞁񱃾􀨲󟩍뵓󴣾􉢇󞷆򴖾򈀴򨐛򡘏𬦐󌬂򲲼󴊩򞒳���\n",
      "  �󻶚񉒾񢕺𪪋󊒻󛼮󏓝񊤬񱅑󜅉􅒌𲙡󆅆񼵑򂲃𚘮򷲋𥚶��\n",
      "  ��󵚌\n",
      "ARG_1: 󞢼\n",
      "ARG_1_ORIGINAL (6 shrinks):\n",
      "   񖌑𺨆𑌿񤺐󕯍񏲞񏄹񲭀󌖈򀏴򺫵񝊶𒃨𵅍𭵼󀾈򯇔򴫫��\n",
      "  ��򣬨𛿖򛻀񛼏􇍜𿐣򠢖񷍀򣎦򪁖󪪠𿏍󘥸򑰒񂪯񴮛󽰩򥔚�\n",
      "  ���𭻹򣨡󳻡󞢼\n",
      "ARG_2:\n",
      "   {𒀸data:map[𹒃:񖌑𺨆𑌿񤺐󕯍񏲞񏄹񲭀󌖈򀏴򺫵񝊶𒃨���\n",
      "  �𭵼󀾈򯇔򴫫򲩏򣬨𛿖򛻀񛼏􇍜𿐣򠢖񷍀򣎦򪁖󪪠𿏍󘥸��\n",
      "  ��񂪯񴮛󽰩򥔚􄆁𭻹򣨡󳻡󞢼]}\n",
      "ARG_2_ORIGINAL (13 shrinks):\n",
      "   {𒀸data:map[󈠅󋓪񓁵𦌽򪑩:󺪗玤񇿌򕯖򨀬饧򛄐񵠣󉓿򃈯�\n",
      "  ���𴄵𥣒𑣩򥄋󻜸򇶳򘿄󱇦󻋇憹󱔇񒪼󼂖듶򁎭𗕻񍓁衉���\n",
      "  �\n",
      "   򔪯񭞁񱃾􀨲󟩍뵓󴣾􉢇󞷆򴖾򈀴򨐛󴊩򞒳󋦢󻶚񉒾񢕺���\n",
      "  �󊒻󛼮󏓝񊤬񱅑󜅉􅒌𲙡󆅆񼵑򂲃𚘮򷲋𥚶𹒃:񖌑𺨆𑌿�\n",
      "  ���󕯍񏲞񏄹񲭀󌖈򀏴򺫵񝊶𒃨𵅍𭵼󀾈򯇔򴫫򲩏򣬨𛿖򛻀\n",
      "  񛼏􇍜𿐣򠢖񷍀򣎦򪁖󪪠𿏍󘥸򑰒񂪯񴮛󽰩򥔚􄆁𭻹򣨡���\n",
      "  �󞢼\n",
      "   񭞁񱃾􀨲󟩍뵓󴣾􉢇󞷆򴖾򈀴򨐛򡘏𬦐󌬂򲲼󴊩򞒳󋦢���\n",
      "  �񉒾񢕺𪪋󛼮󏓝񊤬񱅑󜅉􅒌𲙡󆅆񼵑򂲃𚘮򷲋𥚶𹒃:񖌑�\n",
      "  ���𑌿񤺐󕯍񏲞񏄹񲭀󌖈򀏴򺫵񝊶𒃨𵅍𭵼󀾈򯇔򴫫򲩏򣬨\n",
      "  𛿖򛻀񛼏􇍜𿐣򠢖񷍀򣎦򪁖󪪠𿏍󘥸򑰒񂪯񴮛󽰩򥔚􄆁���\n",
      "  �򣨡󳻡󞢼\n",
      "   򘰗񔵍󿪲򙉻􉘈񲱅񘩗񨣼򶉆𜥭𖩔򀯹䴒󇞔򺚒🺾󫘊򎽈\n",
      "  񄃕𚌗򣪶񨷹󷬼򙄞𾩶󆨇򾪸򱖓񛕪󂱱񃆭뗸򩰍򽕚󫶂𸩋:���\n",
      "  �򤆄󞈩𖢴𵁸񬲥𜔉񠖘􅆆󃰡\n",
      "   򔪯񭞁񱃾􀨲󟩍뵓󴣾􉢇󞷆򴖾򈀴򨐛򡘏𬦐󌬂򲲼󴊩򞒳���\n",
      "  �󻶚񉒾񢕺𪪋󊒻󛼮󏓝񊤬񱅑󜅉􅒌𲙡󆅆𥚶𹒃:񖌑𺨆𑌿�\n",
      "  ���󕯍񏲞񏄹񲭀󌖈򀏴򺫵񝊶𒃨𵅍𭵼󀾈򯇔򴫫򲩏򣬨𛿖򛻀\n",
      "  񛼏􇍜𿐣򠢖񷍀򣎦򪁖󪪠𿏍󘥸򑰒񂪯񴮛󽰩򥔚􄆁𭻹򣨡���\n",
      "  �󞢼\n",
      "   򔪯񭞁񱃾􀨲󴣾􉢇󞷆򴖾򈀴򨐛򡘏𬦐󌬂򲲼󴊩򞒳󋦢󻶚��\n",
      "  ��񢕺𪪋󊒻󛼮󏓝񊤬񱅑󜅉􅒌𲙡󆅆񼵑򂲃𚘮򷲋𥚶𹒃:񖌑\n",
      "  𺨆𑌿񤺐󕯍񏲞񏄹񲭀󌖈򀏴򺫵񝊶𒃨𵅍𭵼󀾈򯇔򴫫򲩏���\n",
      "  �𛿖򛻀񛼏􇍜𿐣򠢖񷍀򣎦򪁖󪪠𿏍󘥸򑰒񂪯񴮛󽰩򥔚􄆁��\n",
      "  ��򣨡󳻡󞢼\n",
      "   񭞁񱃾􀨲󟩍뵓󴣾􉢇󞷆򴖾򈀴򨐛򡘏𬦐󌬂򲲼󴊩󋦢󻶚���\n",
      "  �񢕺𪪋󊒻󛼮󏓝񊤬񱅑󜅉􅒌𲙡󆅆񼵑򂲃𚘮򷲋𥚶𹒃:񖌑�\n",
      "  ���𑌿񤺐󕯍񏲞񏄹񲭀󌖈򀏴򺫵񝊶𒃨𵅍𭵼󀾈򯇔򴫫򲩏򣬨\n",
      "  𛿖򛻀񛼏􇍜𿐣򠢖񷍀򣎦򪁖󪪠𿏍󘥸򑰒񂪯񴮛󽰩򥔚􄆁���\n",
      "  �򣨡󳻡󞢼\n",
      "   񭞁񱃾􀨲󟩍뵓󴣾􉢇󞷆򴖾򈀴򨐛򡘏𬦐󌬂򲲼󴊩򞒳󋦢���\n",
      "  �񉒾񢕺𪪋󊒻󛼮󏓝񊤬񱅑󜅉􅒌𲙡󆅆񼵑򂲃𚘮𹒃:񖌑𺨆�\n",
      "  ���񤺐󕯍񏲞񏄹񲭀󌖈򀏴򺫵񝊶𒃨𵅍𭵼󀾈򯇔򴫫򲩏򣬨𛿖\n",
      "  򛻀񛼏􇍜𿐣򠢖񷍀򣎦򪁖󪪠𿏍󘥸򑰒񂪯񴮛󽰩򥔚􄆁𭻹���\n",
      "  �󳻡󞢼\n",
      "   𫼩󬇁񫊑􃅣񳬽󞵊򍭅󪍗󢸛򪧲󉕙:񩜓񪜩񄉾򾅰񂞮񐞳򓅜�\n",
      "  ���\n",
      "   󻶚񉒾񢕺𪪋󊒻󛼮󏓝񊤬񱅑󜅉􅒌𲙡󆅆񼵑򂲃𚘮򷲋𥚶��\n",
      "  ��:񖌑𺨆𑌿񤺐󕯍񏲞񏄹񲭀󌖈򀏴򺫵񝊶𒃨𵅍𭵼󀾈򯇔򴫫\n",
      "  򲩏򣬨𛿖򛻀񛼏􇍜𿐣򠢖񷍀򣎦򪁖󪪠𿏍󘥸򑰒񂪯񴮛󽰩���\n",
      "  �􄆁𭻹򣨡󳻡󞢼\n",
      "   򔪯񭞁񱃾􀨲󟩍뵓󴣾􉢇󞷆򴖾򈀴򨐛򡘏𬦐󌬂򲲼󴊩򞒳���\n",
      "  �񢕺𪪋󊒻󛼮󏓝񊤬񱅑󜅉􅒌𲙡󆅆񼵑򂲃𚘮򷲋𥚶𹒃:񖌑�\n",
      "  ���𑌿񤺐󕯍񏲞񏄹񲭀󌖈򀏴򺫵񝊶𒃨𵅍𭵼󀾈򯇔򴫫򲩏򣬨\n",
      "  𛿖򛻀񛼏􇍜𿐣򠢖񷍀򣎦򪁖󪪠𿏍󘥸򑰒񂪯񴮛󽰩򥔚􄆁���\n",
      "  �򣨡󳻡󞢼\n",
      "   򔪯񭞁񱃾􀨲󟩍뵓󴣾􉢇󞷆򴖾򈀴򨐛򡘏𬦐󌬂򲲼󴊩򞒳���\n",
      "  �󻶚񉒾񢕺𪪋󊒻󛼮󏓝񊤬񱅑𲙡󆅆񼵑򂲃𚘮򷲋𥚶𹒃:񖌑�\n",
      "  ���𑌿񤺐󕯍񏲞񏄹񲭀󌖈򀏴򺫵񝊶𒃨𵅍𭵼󀾈򯇔򴫫򲩏򣬨\n",
      "  𛿖򛻀񛼏􇍜𿐣򠢖񷍀򣎦򪁖󪪠𿏍󘥸򑰒񂪯񴮛󽰩򥔚􄆁���\n",
      "  �򣨡󳻡󞢼\n",
      "   񭞁񱃾􀨲󟩍뵓󴣾􉢇󞷆򴖾򈀴򨐛򡘏𬦐󌬂򲲼󴊩򞒳󋦢���\n",
      "  �񉒾񢕺𪪋󊒻󛼮󏓝񊤬񱅑󜅉򂲃𚘮򷲋𥚶𹒃:񖌑𺨆𑌿񤺐�\n",
      "  ���񏲞񏄹񲭀󌖈򀏴򺫵񝊶𒃨𵅍𭵼󀾈򯇔򴫫򲩏򣬨𛿖򛻀񛼏\n",
      "  􇍜𿐣򠢖񷍀򣎦򪁖󪪠𿏍󘥸򑰒񂪯񴮛󽰩򥔚􄆁𭻹򣨡󳻡���\n",
      "  �\n",
      "   񭞁񱃾􀨲󟩍뵓󴣾􉢇󞷆򨐛򡘏𬦐󌬂򲲼󴊩򞒳󋦢󻶚񉒾���\n",
      "  �𪪋󊒻󛼮󏓝񊤬񱅑󜅉􅒌𲙡󆅆񼵑򂲃𚘮򷲋𥚶𹒃:񖌑𺨆�\n",
      "  ���񤺐󕯍񏲞񏄹񲭀󌖈򀏴򺫵񝊶𒃨𵅍𭵼󀾈򯇔򴫫򲩏򣬨𛿖\n",
      "  򛻀񛼏􇍜𿐣򠢖񷍀򣎦򪁖󪪠𿏍󘥸򑰒񂪯񴮛󽰩򥔚􄆁𭻹���\n",
      "  �󳻡󞢼\n",
      "   񭞁񱃾􀨲󟩍뵓󴣾􉢇󞷆򴖾򈀴򨐛򡘏𬦐󌬂򲲼󴊩򞒳󋦢���\n",
      "  �񉒾񢕺𪪋󊒻󛼮󏓝񊤬􅒌𲙡󆅆񼵑򂲃𚘮򷲋𥚶𹒃:񖌑𺨆�\n",
      "  ���񤺐󕯍񏲞񏄹񲭀󌖈򀏴򺫵񝊶𒃨𵅍𭵼󀾈򯇔򴫫򲩏򣬨𛿖\n",
      "  򛻀񛼏􇍜𿐣򠢖񷍀򣎦򪁖󪪠𿏍󘥸򑰒񂪯񴮛󽰩򥔚􄆁𭻹���\n",
      "  �󳻡󞢼\n",
      "   򔪯񭞁񱃾􀨲󟩍뵓󴣾􉢇󞷆򴖾򈀴򨐛򡘏𬦐󌬂򲲼󴊩򞒳���\n",
      "  �󻶚񉒾񢕺𪪋󊒻󛼮󏓝񊤬𥚶𹒃:񖌑𺨆𑌿񤺐󕯍񏲞񏄹񲭀�\n",
      "  ���򀏴򺫵񝊶𒃨𵅍𭵼󀾈򯇔򴫫򲩏򣬨𛿖򛻀񛼏􇍜𿐣򠢖񷍀\n",
      "  򣎦򪁖󪪠𿏍󘥸򑰒񂪯񴮛󽰩򥔚􄆁𭻹򣨡󳻡󞢼\n",
      "   򔪯񭞁񱃾􀨲󟩍뵓󴣾􉢇󞷆򴖾򈀴򨐛򡘏𬦐󌬂򲲼󴊩򞒳���\n",
      "  �󻶚񉒾񢕺𪪋󊒻󛼮󏓝񊤬񱅑󜅉􅒌𲙡󆅆񼵑򂲃𚘮򷲋:񖌑�\n",
      "  ���𑌿񤺐󕯍񏲞񏄹񲭀󌖈򀏴򺫵񝊶𒃨𵅍𭵼󀾈򯇔򴫫򲩏򣬨\n",
      "  𛿖򛻀񛼏􇍜𿐣򠢖񷍀򣎦򪁖󪪠𿏍󘥸򑰒񂪯񴮛󽰩򥔚􄆁���\n",
      "  �򣨡󳻡󞢼\n",
      "   񭞁񱃾􀨲󟩍򴖾򈀴򨐛򡘏𬦐󌬂򲲼󴊩򞒳󋦢󻶚񉒾񢕺𪪋��\n",
      "  ��󛼮󏓝񊤬񱅑󜅉􅒌𲙡󆅆񼵑򂲃𚘮򷲋𥚶𹒃:񖌑𺨆𑌿񤺐\n",
      "  󕯍񏲞񏄹񲭀󌖈򀏴򺫵񝊶𒃨𵅍𭵼󀾈򯇔򴫫򲩏򣬨𛿖򛻀���\n",
      "  �􇍜𿐣򠢖񷍀򣎦򪁖󪪠𿏍󘥸򑰒񂪯񴮛󽰩򥔚􄆁𭻹򣨡󳻡��\n",
      "  ��\n",
      "   񭞁񱃾􀨲󟩍뵓󴣾􉢇󞷆򴖾򈀴򨐛򡘏𬦐󌬂򲲼󴊩򞒳󋦢���\n",
      "  �񉒾󏓝񊤬񱅑󜅉􅒌𲙡󆅆񼵑򂲃𚘮򷲋𥚶𹒃:񖌑𺨆𑌿񤺐�\n",
      "  ���񏲞񏄹񲭀󌖈򀏴򺫵񝊶𒃨𵅍𭵼󀾈򯇔򴫫򲩏򣬨𛿖򛻀񛼏\n",
      "  􇍜𿐣򠢖񷍀򣎦򪁖󪪠𿏍󘥸򑰒񂪯񴮛󽰩򥔚􄆁𭻹򣨡󳻡���\n",
      "  �\n",
      "   􀨲󟩍뵓󴣾􉢇󞷆򴖾򈀴򨐛򡘏𬦐󌬂򲲼󴊩򞒳󋦢󻶚񉒾���\n",
      "  �𪪋󊒻󛼮󏓝񊤬񱅑󜅉􅒌𲙡󆅆񼵑򂲃𚘮򷲋𥚶𹒃:񖌑𺨆�\n",
      "  ���񤺐󕯍񏲞񏄹񲭀󌖈򀏴򺫵񝊶𒃨𵅍𭵼󀾈򯇔򴫫򲩏򣬨𛿖\n",
      "  򛻀񛼏􇍜𿐣򠢖񷍀򣎦򪁖󪪠𿏍󘥸򑰒񂪯񴮛󽰩򥔚􄆁𭻹���\n",
      "  �󳻡󞢼\n",
      "   񭞁񱃾􀨲󟩍뵓󴣾􉢇󞷆򴖾򈀴򨐛򡘏𬦐󌬂򲲼󴊩򞒳󋦢���\n",
      "  �񉒾񢕺𪪋󊒻󛼮󏓝񱅑󜅉􅒌𲙡󆅆񼵑򂲃𚘮򷲋𥚶𹒃:񖌑�\n",
      "  ���𑌿񤺐󕯍񏲞񏄹񲭀󌖈򀏴򺫵񝊶𒃨𵅍𭵼󀾈򯇔򴫫򲩏򣬨\n",
      "  𛿖򛻀񛼏􇍜𿐣򠢖񷍀򣎦򪁖󪪠𿏍󘥸򑰒񂪯񴮛󽰩򥔚􄆁���\n",
      "  �򣨡󳻡󞢼\n",
      "   񭞁񱃾􀨲󟩍뵓󴣾􉢇󞷆򴖾򈀴򨐛򡘏𬦐󌬂򲲼󴊩򞒳󋦢���\n",
      "  �񉒾񢕺𪪋󊒻󛼮󏓝񊤬񱅑󜅉􅒌󆅆񼵑򂲃𚘮򷲋𥚶𹒃:񖌑�\n",
      "  ���𑌿񤺐󕯍񏲞񏄹񲭀󌖈򀏴򺫵񝊶𒃨𵅍𭵼󀾈򯇔򴫫򲩏򣬨\n",
      "  𛿖򛻀񛼏􇍜𿐣򠢖񷍀򣎦򪁖󪪠𿏍󘥸򑰒񂪯񴮛󽰩򥔚􄆁���\n",
      "  �򣨡󳻡󞢼\n",
      "   񭞁񱃾􀨲󟩍뵓󴣾􉢇󞷆򴖾򈀴򨐛򡘏𬦐󌬂򲲼󴊩򞒳󋦢���\n",
      "  �񉒾񢕺𪪋󊒻󛼮󏓝񊤬񱅑󜅉􅒌𲙡󆅆񼵑򂲃𚘮򷲋𹒃:񖌑�\n",
      "  ���𑌿񤺐󕯍񏲞񏄹񲭀󌖈򀏴򺫵񝊶𒃨𵅍𭵼󀾈򯇔򴫫򲩏򣬨\n",
      "  𛿖򛻀񛼏􇍜𿐣򠢖񷍀򣎦򪁖󪪠𿏍󘥸򑰒񂪯񴮛󽰩򥔚􄆁���\n",
      "  �򣨡󳻡󞢼\n",
      "   񭞁񱃾뵓󴣾􉢇󞷆򴖾򈀴򨐛򡘏𬦐󌬂򲲼󴊩򞒳󋦢󻶚񉒾���\n",
      "  �𪪋󊒻󛼮󏓝񊤬񱅑󜅉􅒌𲙡󆅆񼵑򂲃𚘮򷲋𥚶𹒃:񖌑𺨆�\n",
      "  ���񤺐󕯍񏲞񏄹񲭀󌖈򀏴򺫵񝊶𒃨𵅍𭵼󀾈򯇔򴫫򲩏򣬨𛿖\n",
      "  򛻀񛼏􇍜𿐣򠢖񷍀򣎦򪁖󪪠𿏍󘥸򑰒񂪯񴮛󽰩򥔚􄆁𭻹���\n",
      "  �󳻡󞢼\n",
      "   񭞁񱃾􀨲󟩍뵓󴣾􉢇󞷆򴖾򈀴򨐛򡘏𬦐󌬂򞒳󋦢󻶚񉒾���\n",
      "  �𪪋󊒻󛼮󏓝񊤬񱅑󜅉􅒌𲙡󆅆񼵑򂲃𚘮򷲋𥚶𹒃:񖌑𺨆�\n",
      "  ���񤺐󕯍񏲞񏄹񲭀󌖈򀏴򺫵񝊶𒃨𵅍𭵼󀾈򯇔򴫫򲩏򣬨𛿖\n",
      "  򛻀񛼏􇍜𿐣򠢖񷍀򣎦򪁖󪪠𿏍󘥸򑰒񂪯񴮛󽰩򥔚􄆁𭻹���\n",
      "  �󳻡󞢼\n",
      "   񭞁񱃾􀨲󟩍뵓󴣾􉢇󞷆򴖾򈀴򨐛򡘏𬦐󌬂򲲼򞒳󋦢󻶚���\n",
      "  �񢕺𪪋󊒻󛼮󏓝񊤬񱅑󜅉􅒌𲙡󆅆񼵑򂲃𚘮򷲋𥚶𹒃:񖌑�\n",
      "  ���𑌿񤺐󕯍񏲞񏄹񲭀󌖈򀏴򺫵񝊶𒃨𵅍𭵼󀾈򯇔򴫫򲩏򣬨\n",
      "  𛿖򛻀񛼏􇍜𿐣򠢖񷍀򣎦򪁖󪪠𿏍󘥸򑰒񂪯񴮛󽰩򥔚􄆁���\n",
      "  �򣨡󳻡󞢼\n",
      "   񭞁񱃾􀨲󟩍뵓󴣾􉢇󞷆򴖾򈀴򨐛򡘏𬦐󌬂򲲼󴊩򞒳󋦢���\n",
      "  �񉒾񢕺𪪋󊒻󛼮󏓝񊤬񱅑􅒌𲙡󆅆񼵑򂲃𚘮򷲋𥚶𹒃:񖌑�\n",
      "  ���𑌿񤺐󕯍񏲞񏄹񲭀󌖈򀏴򺫵񝊶𒃨𵅍𭵼󀾈򯇔򴫫򲩏򣬨\n",
      "  𛿖򛻀񛼏􇍜𿐣򠢖񷍀򣎦򪁖󪪠𿏍󘥸򑰒񂪯񴮛󽰩򥔚􄆁���\n",
      "  �򣨡󳻡󞢼\n",
      "   򔪯񭞁񱃾􀨲󟩍뵓󴣾􉢇󞷆򴖾򡘏𬦐󌬂򲲼󴊩򞒳󋦢󻶚���\n",
      "  �񢕺𪪋󊒻󛼮󏓝񊤬񱅑󜅉􅒌𲙡󆅆񼵑򂲃𚘮򷲋𥚶𹒃:񖌑�\n",
      "  ���𑌿񤺐󕯍񏲞񏄹񲭀󌖈򀏴򺫵񝊶𒃨𵅍𭵼󀾈򯇔򴫫򲩏򣬨\n",
      "  𛿖򛻀񛼏􇍜𿐣򠢖񷍀򣎦򪁖󪪠𿏍󘥸򑰒񂪯񴮛󽰩򥔚􄆁���\n",
      "  �򣨡󳻡󞢼\n",
      "   򈀴򨐛򡘏𬦐󌬂򲲼󴊩򞒳󋦢󻶚񉒾񢕺𪪋󊒻󛼮󏓝񊤬񱅑��\n",
      "  ��􅒌𲙡󆅆񼵑򂲃𚘮򷲋𥚶𹒃:񖌑𺨆𑌿񤺐󕯍񏲞񏄹񲭀󌖈\n",
      "  򀏴򺫵񝊶𒃨𵅍𭵼󀾈򯇔򴫫򲩏򣬨𛿖򛻀񛼏􇍜𿐣򠢖񷍀���\n",
      "  �򪁖󪪠𿏍󘥸򑰒񂪯񴮛󽰩򥔚􄆁𭻹򣨡󳻡󞢼\n",
      "   񭞁񱃾􀨲󟩍뵓󴣾􉢇󞷆򴖾򈀴򨐛򡘏𬦐󌬂򲲼󴊩򞒳󋦢���\n",
      "  �񉒾񢕺𪪋󊒻󛼮󏓝񊤬񱅑󜅉󆅆񼵑򂲃𚘮򷲋𥚶𹒃:񖌑𺨆�\n",
      "  ���񤺐󕯍񏲞񏄹񲭀󌖈򀏴򺫵񝊶𒃨𵅍𭵼󀾈򯇔򴫫򲩏򣬨𛿖\n",
      "  򛻀񛼏􇍜𿐣򠢖񷍀򣎦򪁖󪪠𿏍󘥸򑰒񂪯񴮛󽰩򥔚􄆁𭻹���\n",
      "  �󳻡󞢼\n",
      "   񭞁񱃾􀨲󟩍뵓󴣾􉢇󞷆򴖾򈀴򨐛򡘏𬦐󌬂򲲼󴊩򞒳󋦢���\n",
      "  �񉒾񢕺󊒻󛼮󏓝񊤬񱅑󜅉􅒌𲙡󆅆񼵑򂲃𚘮򷲋𥚶𹒃:񖌑�\n",
      "  ���𑌿񤺐󕯍񏲞񏄹񲭀󌖈򀏴򺫵񝊶𒃨𵅍𭵼󀾈򯇔򴫫򲩏򣬨\n",
      "  𛿖򛻀񛼏􇍜𿐣򠢖񷍀򣎦򪁖󪪠𿏍󘥸򑰒񂪯񴮛󽰩򥔚􄆁���\n",
      "  �򣨡󳻡󞢼\n",
      "   񭞁񱃾􀨲󟩍뵓󴣾􉢇󞷆򴖾򈀴򨐛򡘏𬦐󌬂򲲼󴊩򞒳󋦢���\n",
      "  �񉒾񢕺𪪋󊒻󛼮󏓝񊤬񱅑󜅉􅒌𲙡󆅆񼵑𚘮򷲋𥚶𹒃:񖌑�\n",
      "  ���𑌿񤺐󕯍񏲞񏄹񲭀󌖈򀏴򺫵񝊶𒃨𵅍𭵼󀾈򯇔򴫫򲩏򣬨\n",
      "  𛿖򛻀񛼏􇍜𿐣򠢖񷍀򣎦򪁖󪪠𿏍󘥸򑰒񂪯񴮛󽰩򥔚􄆁���\n",
      "  �򣨡󳻡󞢼\n",
      "   񭞁񱃾􀨲󟩍뵓󴣾􉢇󞷆򴖾򈀴򨐛򡘏𬦐󌬂򲲼󴊩򞒳󋦢���\n",
      "  �񉒾񢕺𪪋󊒻󛼮󏓝񊤬󜅉􅒌𲙡󆅆񼵑򂲃𚘮򷲋𥚶𹒃:񖌑�\n",
      "  ���𑌿񤺐󕯍񏲞񏄹񲭀󌖈򀏴򺫵񝊶𒃨𵅍𭵼󀾈򯇔򴫫򲩏򣬨\n",
      "  𛿖򛻀񛼏􇍜𿐣򠢖񷍀򣎦򪁖󪪠𿏍󘥸򑰒񂪯񴮛󽰩򥔚􄆁���\n",
      "  �򣨡󳻡󞢼\n",
      "   򔪯񭞁񱃾􀨲󟩍뵓󴣾􉢇󞷆򴖾򈀴򨐛򡘏𬦐󌬂򲲼󴊩򞒳���\n",
      "  �󵚌:񖌑𺨆𑌿񤺐󕯍񏲞񏄹񲭀󌖈򀏴򺫵񝊶𒃨𵅍𭵼󀾈򯇔�\n",
      "  ���򲩏򣬨𛿖򛻀񛼏􇍜𿐣򠢖񷍀򣎦򪁖󪪠𿏍󘥸򑰒񂪯񴮛󽰩\n",
      "  򥔚􄆁𭻹򣨡󳻡󞢼\n",
      "   򴖾򈀴򨐛򡘏𬦐󌬂򲲼󴊩򞒳󋦢󻶚񉒾񢕺𪪋󊒻󛼮󏓝񊤬��\n",
      "  ��󜅉􅒌𲙡󆅆񼵑򂲃𚘮򷲋𥚶𹒃:񖌑𺨆𑌿񤺐󕯍񏲞񏄹񲭀\n",
      "  󌖈򀏴򺫵񝊶𒃨𵅍𭵼󀾈򯇔򴫫򲩏򣬨𛿖򛻀񛼏􇍜𿐣򠢖���\n",
      "  �򣎦򪁖󪪠𿏍󘥸򑰒񂪯񴮛󽰩򥔚􄆁𭻹򣨡󳻡󞢼\n",
      "   򔪯񭞁񱃾􀨲󟩍뵓󞷆򴖾򈀴򨐛򡘏𬦐󌬂򲲼󴊩򞒳󋦢󻶚���\n",
      "  �񢕺𪪋󊒻󛼮󏓝񊤬񱅑󜅉􅒌𲙡󆅆񼵑򂲃𚘮򷲋𥚶𹒃:񖌑�\n",
      "  ���𑌿񤺐󕯍񏲞񏄹񲭀󌖈򀏴򺫵񝊶𒃨𵅍𭵼󀾈򯇔򴫫򲩏򣬨\n",
      "  𛿖򛻀񛼏􇍜𿐣򠢖񷍀򣎦򪁖󪪠𿏍󘥸򑰒񂪯񴮛󽰩򥔚􄆁���\n",
      "  �򣨡󳻡󞢼\n",
      "   񭞁񱃾􀨲󟩍뵓󴣾􉢇󞷆򴖾򈀴򨐛򡘏𬦐󌬂򲲼󴊩򞒳󋦢���\n",
      "  �񉒾񢕺𪪋󊒻󛼮󏓝񊤬񱅑󜅉􅒌𲙡󆅆񼵑򂲃𚘮򷲋𥚶:񖌑�\n",
      "  ���𑌿񤺐󕯍񏲞񏄹񲭀󌖈򀏴򺫵񝊶𒃨𵅍𭵼󀾈򯇔򴫫򲩏򣬨\n",
      "  𛿖򛻀񛼏􇍜𿐣򠢖񷍀򣎦򪁖󪪠𿏍󘥸򑰒񂪯񴮛󽰩򥔚􄆁���\n",
      "  �򣨡󳻡󞢼\n",
      "   񭞁񱃾􀨲󟩍뵓󴣾􉢇󞷆򴖾򈀴򡘏𬦐󌬂򲲼󴊩򞒳󋦢󻶚���\n",
      "  �񢕺𪪋󊒻󛼮󏓝񊤬񱅑󜅉􅒌𲙡󆅆񼵑򂲃𚘮򷲋𥚶𹒃:񖌑�\n",
      "  ���𑌿񤺐󕯍񏲞񏄹񲭀󌖈򀏴򺫵񝊶𒃨𵅍𭵼󀾈򯇔򴫫򲩏򣬨\n",
      "  𛿖򛻀񛼏􇍜𿐣򠢖񷍀򣎦򪁖󪪠𿏍󘥸򑰒񂪯񴮛󽰩򥔚􄆁���\n",
      "  �򣨡󳻡󞢼\n",
      "   񭞁񱃾􀨲󟩍뵓󴣾􉢇󞷆򴖾򈀴򨐛𬦐󌬂򲲼󴊩򞒳󋦢󻶚���\n",
      "  �񢕺𪪋󊒻󛼮󏓝񊤬񱅑󜅉􅒌𲙡󆅆񼵑򂲃𚘮򷲋𥚶𹒃:񖌑�\n",
      "  ���𑌿񤺐󕯍񏲞񏄹񲭀󌖈򀏴򺫵񝊶𒃨𵅍𭵼󀾈򯇔򴫫򲩏򣬨\n",
      "  𛿖򛻀񛼏􇍜𿐣򠢖񷍀򣎦򪁖󪪠𿏍󘥸򑰒񂪯񴮛󽰩򥔚􄆁���\n",
      "  �򣨡󳻡󞢼\n",
      "   񭞁񱃾􀨲󟩍뵓󴣾􉢇󞷆򴖾򈀴򨐛򡘏𬦐󌬂򲲼󴊩򞒳󋦢���\n",
      "  �񉒾񢕺𪪋󊒻󛼮󏓝񊤬񱅑󜅉􅒌𲙡󆅆񼵑򂲃򷲋𥚶𹒃:񖌑�\n",
      "  ���𑌿񤺐󕯍񏲞񏄹񲭀󌖈򀏴򺫵񝊶𒃨𵅍𭵼󀾈򯇔򴫫򲩏򣬨\n",
      "  𛿖򛻀񛼏􇍜𿐣򠢖񷍀򣎦򪁖󪪠𿏍󘥸򑰒񂪯񴮛󽰩򥔚􄆁���\n",
      "  �򣨡󳻡󞢼\n",
      "   񭞁񱃾􀨲󟩍뵓󴣾􉢇󞷆򴖾򈀴򨐛򡘏𬦐󌬂򲲼󴊩򞒳󋦢���\n",
      "  �:񖌑𺨆𑌿񤺐󕯍񏲞񏄹񲭀󌖈򀏴򺫵񝊶𒃨𵅍𭵼󀾈򯇔򴫫�\n",
      "  ���򣬨𛿖򛻀񛼏􇍜𿐣򠢖񷍀򣎦򪁖󪪠𿏍󘥸򑰒񂪯񴮛󽰩򥔚\n",
      "  􄆁𭻹򣨡󳻡󞢼\n",
      "   񭞁񱃾􀨲󟩍뵓󴣾􉢇󞷆򴖾򈀴򨐛򡘏𬦐󌬂򲲼󴊩򞒳󋦢���\n",
      "  �񉒾񢕺𪪋󊒻󛼮󏓝񊤬񱅑󜅉􅒌𲙡󆅆򂲃𚘮򷲋𥚶𹒃:񖌑�\n",
      "  ���𑌿񤺐󕯍񏲞񏄹񲭀󌖈򀏴򺫵񝊶𒃨𵅍𭵼󀾈򯇔򴫫򲩏򣬨\n",
      "  𛿖򛻀񛼏􇍜𿐣򠢖񷍀򣎦򪁖󪪠𿏍󘥸򑰒񂪯񴮛󽰩򥔚􄆁���\n",
      "  �򣨡󳻡󞢼 􄤾:𤱈\n",
      "   񭞁񱃾􀨲󟩍뵓󴣾􉢇󞷆򴖾򈀴򨐛򡘏򲲼󴊩򞒳󋦢󻶚񉒾���\n",
      "  �𪪋󊒻󛼮󏓝񊤬񱅑󜅉􅒌𲙡󆅆񼵑򂲃𚘮򷲋𥚶𹒃:񖌑𺨆�\n",
      "  ���񤺐󕯍񏲞񏄹񲭀󌖈򀏴򺫵񝊶𒃨𵅍𭵼󀾈򯇔򴫫򲩏򣬨𛿖\n",
      "  򛻀񛼏􇍜𿐣򠢖񷍀򣎦򪁖󪪠𿏍󘥸򑰒񂪯񴮛󽰩򥔚􄆁𭻹���\n",
      "  �󳻡󞢼\n",
      "   񭞁񱃾􀨲󟩍뵓󴣾􉢇󞷆򴖾򈀴򨐛򡘏𬦐󌬂򲲼󴊩󻶚񉒾���\n",
      "  �𪪋󊒻󛼮󏓝񊤬񱅑󜅉􅒌𲙡󆅆񼵑򂲃𚘮򷲋𥚶𹒃:񖌑𺨆�\n",
      "  ���񤺐󕯍񏲞񏄹񲭀󌖈򀏴򺫵񝊶𒃨𵅍𭵼󀾈򯇔򴫫򲩏򣬨𛿖\n",
      "  򛻀񛼏􇍜𿐣򠢖񷍀򣎦򪁖󪪠𿏍󘥸򑰒񂪯񴮛󽰩򥔚􄆁𭻹���\n",
      "  �󳻡󞢼\n",
      "   񭞁񱃾􀨲󟩍뵓󴣾􉢇󞷆򴖾򈀴򨐛򡘏𬦐󌬂򲲼󴊩򞒳󋦢���\n",
      "  �񢕺𪪋󊒻󛼮󏓝񊤬񱅑󜅉􅒌𲙡󆅆񼵑򂲃𚘮򷲋𥚶𹒃:񖌑�\n",
      "  ���𑌿񤺐󕯍񏲞񏄹񲭀󌖈򀏴򺫵񝊶𒃨𵅍𭵼󀾈򯇔򴫫򲩏򣬨\n",
      "  𛿖򛻀񛼏􇍜𿐣򠢖񷍀򣎦򪁖󪪠𿏍󘥸򑰒񂪯񴮛󽰩򥔚􄆁���\n",
      "  �򣨡󳻡󞢼\n",
      "   񭞁񱃾􀨲󟩍뵓󴣾􉢇󞷆򴖾򈀴򨐛򡘏𬦐󌬂򲲼󴊩򞒳󋦢���\n",
      "  �񉒾񢕺𪪋󊒻󛼮􅒌𲙡󆅆񼵑򂲃𚘮򷲋𥚶𹒃:񖌑𺨆𑌿񤺐�\n",
      "  ���񏲞񏄹񲭀󌖈򀏴򺫵񝊶𒃨𵅍𭵼󀾈򯇔򴫫򲩏򣬨𛿖򛻀񛼏\n",
      "  􇍜𿐣򠢖񷍀򣎦򪁖󪪠𿏍󘥸򑰒񂪯񴮛󽰩򥔚􄆁𭻹򣨡󳻡���\n",
      "  �\n",
      "   򔪯񭞁񱃾􀨲󟩍뵓󴣾􉢇󞷆򴖾򈀴򨐛򡘏𬦐󌬂򲲼󴊩򞒳���\n",
      "  �󻶚񉒾񢕺𪪋󊒻󜅉􅒌𲙡󆅆񼵑򂲃𚘮򷲋𥚶𹒃:񖌑𺨆𑌿�\n",
      "  ���󕯍񏲞񏄹񲭀󌖈򀏴򺫵񝊶𒃨𵅍𭵼󀾈򯇔򴫫򲩏򣬨𛿖򛻀\n",
      "  񛼏􇍜𿐣򠢖񷍀򣎦򪁖󪪠𿏍󘥸򑰒񂪯񴮛󽰩򥔚􄆁𭻹򣨡���\n",
      "  �󞢼\n",
      "   񭞁񱃾􀨲󟩍뵓󴣾􉢇󞷆򴖾򈀴򨐛򡘏𬦐󌬂򲲼󴊩򞒳󋦢���\n",
      "  �𪪋󊒻󛼮󏓝񊤬񱅑󜅉􅒌𲙡󆅆񼵑򂲃𚘮򷲋𥚶𹒃:񖌑𺨆�\n",
      "  ���񤺐󕯍񏲞񏄹񲭀󌖈򀏴򺫵񝊶𒃨𵅍𭵼󀾈򯇔򴫫򲩏򣬨𛿖\n",
      "  򛻀񛼏􇍜𿐣򠢖񷍀򣎦򪁖󪪠𿏍󘥸򑰒񂪯񴮛󽰩򥔚􄆁𭻹���\n",
      "  �󳻡󞢼\n",
      "   񭞁񱃾􀨲󟩍뵓󴣾􉢇󞷆򴖾򈀴򨐛򡘏𬦐󌬂򲲼󴊩򞒳󋦢���\n",
      "  �񉒾񢕺𪪋󊒻󏓝񊤬񱅑󜅉􅒌𲙡󆅆񼵑򂲃𚘮򷲋𥚶𹒃:񖌑�\n",
      "  ���𑌿񤺐󕯍񏲞񏄹񲭀󌖈򀏴򺫵񝊶𒃨𵅍𭵼󀾈򯇔򴫫򲩏򣬨\n",
      "  𛿖򛻀񛼏􇍜𿐣򠢖񷍀򣎦򪁖󪪠𿏍󘥸򑰒񂪯񴮛󽰩򥔚􄆁���\n",
      "  �򣨡󳻡󞢼\n",
      "   󔢱󊟸𪏒񙫹󃙫򥚞򁭀󑤞񜦛񲀔񚔀򛓚𧝳󽷒𛐙𓩈𡚰򦆜��\n",
      "  ��񙈇􃑡򏦑񙗩񑗮񊢟󲴍򺩫񶯩󵳌󳸴󊋕򌛡򒸍򶻧:󬟧󜉩􍘅\n",
      "  񈖰򣽖ኬ􋾫➼򡴌󓧿񬌂񝲝󁬍󃀷򌪂🩎큔󥭙򑔊񓻴񬬭\n",
      "   򔪯񭞁񱃾􀨲󟩍뵓󴣾􉢇󞷆򴖾򈀴򨐛򡘏𬦐󌬂򲲼󴊩򞒳���\n",
      "  �󜅉􅒌𲙡󆅆񼵑򂲃𚘮򷲋𥚶𹒃:񖌑𺨆𑌿񤺐󕯍񏲞񏄹񲭀�\n",
      "  ���򀏴򺫵񝊶𒃨𵅍𭵼󀾈򯇔򴫫򲩏򣬨𛿖򛻀񛼏􇍜𿐣򠢖񷍀\n",
      "  򣎦򪁖󪪠𿏍󘥸򑰒񂪯񴮛󽰩򥔚􄆁𭻹򣨡󳻡󞢼\n",
      "   򔪯񭞁񱃾􀨲󟩍뵓󴣾􉢇󞷆򴖾򈀴򨐛򡘏𬦐󌬂򲲼󴊩򞒳���\n",
      "  �󻶚񉒾񢕺𪪋󊒻󛼮󏓝񊤬񱅑񼵑򂲃𚘮򷲋𥚶𹒃:񖌑𺨆𑌿�\n",
      "  ���󕯍񏲞񏄹񲭀󌖈򀏴򺫵񝊶𒃨𵅍𭵼󀾈򯇔򴫫򲩏򣬨𛿖򛻀\n",
      "  񛼏􇍜𿐣򠢖񷍀򣎦򪁖󪪠𿏍󘥸򑰒񂪯񴮛󽰩򥔚􄆁𭻹򣨡���\n",
      "  �󞢼\n",
      "   򔪯񭞁񱃾􀨲󟩍뵓󴣾􉢇󞷆򴖾򈀴򨐛򡘏𬦐󌬂򲲼󴊩򞒳���\n",
      "  �󻶚񉒾񢕺𪪋󊒻󛼮󏓝񊤬񱅑󜅉􅒌𲙡󆅆񼵑򂲃𥚶𹒃:񖌑�\n",
      "  ���𑌿񤺐󕯍񏲞񏄹񲭀󌖈򀏴򺫵񝊶𒃨𵅍𭵼󀾈򯇔򴫫򲩏򣬨\n",
      "  𛿖򛻀񛼏􇍜𿐣򠢖񷍀򣎦򪁖󪪠𿏍󘥸򑰒񂪯񴮛󽰩򥔚􄆁���\n",
      "  �򣨡󳻡󞢼\n",
      "   񭞁񱃾􀨲󟩍뵓󴣾􉢇󞷆򴖾򈀴򨐛򡘏𬦐󌬂򲲼󴊩񢕺𪪋���\n",
      "  �󛼮󏓝񊤬񱅑󜅉􅒌𲙡󆅆񼵑򂲃𚘮򷲋𥚶𹒃:񖌑𺨆𑌿񤺐�\n",
      "  ���񏲞񏄹񲭀󌖈򀏴򺫵񝊶𒃨𵅍𭵼󀾈򯇔򴫫򲩏򣬨𛿖򛻀񛼏\n",
      "  􇍜𿐣򠢖񷍀򣎦򪁖󪪠𿏍󘥸򑰒񂪯񴮛󽰩򥔚􄆁𭻹򣨡󳻡���\n",
      "  �\n",
      "   ⑅򚘐󛵭񧞎󃂦𒿥㜞򷼼󥔏󮫏򋏇떧󺟵򒢎񴾵󦳻󄜐󵇂򰾮�\n",
      "  ���񎩗󾚦屻򗣫񛀪𡴇:򠩷󀭖𴠳񧓽􊼶򘱩󕼸񋦉񩊔񎹥󽂈󒩸\n",
      "  񉦔󄛼󘾶󎚽󣟒𦆉󀾦򣋸󑏊񫊹󢄬𕡚񌧷񊨔􄛄\n",
      "   򦳃󵗛𝛊򉐸舉󮉑񎳵񅜒:􇯴򏛼򨤄󳖠⻀󜆍\n",
      "   򔪯񭞁񱃾􀨲󟩍뵓󴣾􉢇󞷆򴖾򈀴򨐛򡘏𬦐󌬂򲲼󴊩򞒳���\n",
      "  �󻶚񉒾񢕺󛼮󏓝񊤬񱅑󜅉􅒌𲙡󆅆񼵑򂲃𚘮򷲋𥚶𹒃:񖌑�\n",
      "  ���𑌿񤺐󕯍񏲞񏄹񲭀󌖈򀏴򺫵񝊶𒃨𵅍𭵼󀾈򯇔򴫫򲩏򣬨\n",
      "  𛿖򛻀񛼏􇍜𿐣򠢖񷍀򣎦򪁖󪪠𿏍󘥸򑰒񂪯񴮛󽰩򥔚􄆁���\n",
      "  �򣨡󳻡󞢼\n",
      "   򔪯񭞁񱃾􀨲󟩍뵓󴣾􉢇󞷆򴖾򈀴򨐛򡘏𬦐󌬂򲲼󴊩򞒳���\n",
      "  �󻶚񉒾񢕺𪪋󊒻󛼮󏓝󜅉􅒌𲙡󆅆񼵑򂲃𚘮򷲋𥚶𹒃:񖌑�\n",
      "  ���𑌿񤺐󕯍񏲞񏄹񲭀󌖈򀏴򺫵񝊶𒃨𵅍𭵼󀾈򯇔򴫫򲩏򣬨\n",
      "  𛿖򛻀񛼏􇍜𿐣򠢖񷍀򣎦򪁖󪪠𿏍󘥸򑰒񂪯񴮛󽰩򥔚􄆁���\n",
      "  �򣨡󳻡󞢼\n",
      "   񭞁񱃾􀨲뵓󴣾􉢇󞷆򴖾򈀴򨐛򡘏𬦐󌬂򲲼󴊩򞒳󋦢󻶚���\n",
      "  �񢕺𪪋󊒻󛼮󏓝񊤬񱅑󜅉􅒌𲙡󆅆񼵑򂲃𚘮򷲋𥚶𹒃:񖌑�\n",
      "  ���𑌿񤺐󕯍񏲞񏄹񲭀󌖈򀏴򺫵񝊶𒃨𵅍𭵼󀾈򯇔򴫫򲩏򣬨\n",
      "  𛿖򛻀񛼏􇍜𿐣򠢖񷍀򣎦򪁖󪪠𿏍󘥸򑰒񂪯񴮛󽰩򥔚􄆁���\n",
      "  �򣨡󳻡󞢼\n",
      "   񭞁񱃾􀨲󟩍뵓󴣾􉢇󞷆򴖾󻶚񉒾񢕺𪪋󊒻󛼮󏓝񊤬񱅑���\n",
      "  �􅒌𲙡󆅆񼵑򂲃𚘮򷲋𥚶𹒃:񖌑𺨆𑌿񤺐󕯍񏲞񏄹񲭀󌖈�\n",
      "  ���򺫵񝊶𒃨𵅍𭵼󀾈򯇔򴫫򲩏򣬨𛿖򛻀񛼏􇍜𿐣򠢖񷍀򣎦\n",
      "  򪁖󪪠𿏍󘥸򑰒񂪯񴮛󽰩򥔚􄆁𭻹򣨡󳻡󞢼\n",
      "   񭞁񱃾􀨲󟩍􉢇󞷆򴖾򈀴򨐛򡘏𬦐󌬂򲲼󴊩򞒳󋦢󻶚񉒾��\n",
      "  ��𪪋󊒻󛼮󏓝񊤬񱅑󜅉􅒌𲙡󆅆񼵑򂲃𚘮򷲋𥚶𹒃:񖌑𺨆\n",
      "  𑌿񤺐󕯍񏲞񏄹񲭀󌖈򀏴򺫵񝊶𒃨𵅍𭵼󀾈򯇔򴫫򲩏򣬨���\n",
      "  �򛻀񛼏􇍜𿐣򠢖񷍀򣎦򪁖󪪠𿏍󘥸򑰒񂪯񴮛󽰩򥔚􄆁𭻹��\n",
      "  ��󳻡󞢼\n",
      "   񭞁񱃾􀨲󟩍뵓󴣾􉢇󞷆򴖾򈀴𬦐󌬂򲲼󴊩򞒳󋦢󻶚񉒾���\n",
      "  �𪪋󊒻󛼮󏓝񊤬񱅑󜅉􅒌𲙡󆅆񼵑򂲃𚘮򷲋𥚶𹒃:񖌑𺨆�\n",
      "  ���񤺐󕯍񏲞񏄹񲭀󌖈򀏴򺫵񝊶𒃨𵅍𭵼󀾈򯇔򴫫򲩏򣬨𛿖\n",
      "  򛻀񛼏􇍜𿐣򠢖񷍀򣎦򪁖󪪠𿏍󘥸򑰒񂪯񴮛󽰩򥔚􄆁𭻹���\n",
      "  �󳻡󞢼\n",
      "   񭞁񱃾􀨲󟩍뵓󴣾􉢇󞷆򴖾򈀴򨐛򡘏𬦐󌬂򲲼󴊩򞒳󋦢���\n",
      "  �񉒾񢕺𪪋󏓝񊤬񱅑󜅉􅒌𲙡󆅆񼵑򂲃𚘮򷲋𥚶𹒃:񖌑𺨆�\n",
      "  ���񤺐󕯍񏲞񏄹񲭀󌖈򀏴򺫵񝊶𒃨𵅍𭵼󀾈򯇔򴫫򲩏򣬨𛿖\n",
      "  򛻀񛼏􇍜𿐣򠢖񷍀򣎦򪁖󪪠𿏍󘥸򑰒񂪯񴮛󽰩򥔚􄆁𭻹���\n",
      "  �󳻡󞢼\n",
      "   񭞁񱃾􀨲󟩍뵓󴣾򴖾򈀴򨐛򡘏𬦐󌬂򲲼󴊩򞒳󋦢󻶚񉒾���\n",
      "  �𪪋󊒻󛼮󏓝񊤬񱅑󜅉􅒌𲙡󆅆񼵑򂲃𚘮򷲋𥚶𹒃:񖌑𺨆�\n",
      "  ���񤺐󕯍񏲞񏄹񲭀󌖈򀏴򺫵񝊶𒃨𵅍𭵼󀾈򯇔򴫫򲩏򣬨𛿖\n",
      "  򛻀񛼏􇍜𿐣򠢖񷍀򣎦򪁖󪪠𿏍󘥸򑰒񂪯񴮛󽰩򥔚􄆁𭻹���\n",
      "  �󳻡󞢼\n",
      "   񭞁񱃾􀨲󟩍뵓󴣾􉢇󞷆򴖾򈀴򨐛򡘏𬦐󌬂򲲼󴊩򞒳󋦢���\n",
      "  �񢕺𪪋󊒻󛼮󏓝񊤬񱅑󜅉􅒌𲙡󆅆񼵑򂲃𚘮򷲋𥚶𹒃:񖌑�\n",
      "  ���𑌿񤺐󕯍񏲞񏄹񲭀󌖈򀏴򺫵񝊶𒃨𵅍𭵼󀾈򯇔򴫫򲩏򣬨\n",
      "  𛿖򛻀񛼏􇍜𿐣򠢖񷍀򣎦򪁖󪪠𿏍󘥸򑰒񂪯񴮛󽰩򥔚􄆁���\n",
      "  �򣨡󳻡󞢼\n",
      "   񭞁񱃾􀨲󟩍뵓󴣾􉢇󞷆򴖾򈀴򨐛򡘏𬦐󌬂򲲼󴊩򞒳󋦢���\n",
      "  �񉒾𪪋󊒻󛼮󏓝񊤬񱅑󜅉􅒌𲙡󆅆񼵑򂲃𚘮򷲋𥚶𹒃:񖌑�\n",
      "  ���𑌿񤺐󕯍񏲞񏄹񲭀󌖈򀏴򺫵񝊶𒃨𵅍𭵼󀾈򯇔򴫫򲩏򣬨\n",
      "  𛿖򛻀񛼏􇍜𿐣򠢖񷍀򣎦򪁖󪪠𿏍󘥸򑰒񂪯񴮛󽰩򥔚􄆁���\n",
      "  �򣨡󳻡󞢼\n",
      "   񭞁񱃾􀨲󟩍뵓󴣾􉢇󞷆򴖾򈀴򨐛򡘏𬦐󌬂򲲼󴊩򞒳󋦢���\n",
      "  �񉒾񢕺𪪋󊒻󛼮󏓝񊤬񱅑󜅉􅒌𲙡󆅆񼵑򂲃𚘮𥚶𹒃:񖌑�\n",
      "  ���𑌿񤺐󕯍񏲞񏄹񲭀󌖈򀏴򺫵񝊶𒃨𵅍𭵼󀾈򯇔򴫫򲩏򣬨\n",
      "  𛿖򛻀񛼏􇍜𿐣򠢖񷍀򣎦򪁖󪪠𿏍󘥸򑰒񂪯񴮛󽰩򥔚􄆁���\n",
      "  �򣨡󳻡󞢼 񢡨𾄟󜪨񰲦ܜ򁍇:񺧞󁃲򑕨𳶛򑉙񻢒􁟕󃸭\n",
      "   򔪯񭞁񱃾􀨲󟩍뵓󴣾􉢇󞷆򴖾򈀴򨐛򡘏𬦐󌬂򲲼󴊩򞒳���\n",
      "  �󻶚񉒾񢕺𪪋󊒻󛼮󏓝񊤬񱅑󜅉􅒌𲙡󆅆𚘮򷲋𥚶𹒃:񖌑�\n",
      "  ���𑌿񤺐󕯍񏲞񏄹񲭀󌖈򀏴򺫵񝊶𒃨𵅍𭵼󀾈򯇔򴫫򲩏򣬨\n",
      "  𛿖򛻀񛼏􇍜𿐣򠢖񷍀򣎦򪁖󪪠𿏍󘥸򑰒񂪯񴮛󽰩򥔚􄆁���\n",
      "  �򣨡󳻡󞢼\n",
      "   񭞁񱃾􀨲󟩍뵓󴣾􉢇󞷆𬦐󌬂򲲼󴊩򞒳󋦢󻶚񉒾񢕺𪪋���\n",
      "  �󛼮󏓝񊤬񱅑󜅉􅒌𲙡󆅆񼵑򂲃𚘮򷲋𥚶𹒃:񖌑𺨆𑌿񤺐�\n",
      "  ���񏲞񏄹񲭀󌖈򀏴򺫵񝊶𒃨𵅍𭵼󀾈򯇔򴫫򲩏򣬨𛿖򛻀񛼏\n",
      "  􇍜𿐣򠢖񷍀򣎦򪁖󪪠𿏍󘥸򑰒񂪯񴮛󽰩򥔚􄆁𭻹򣨡󳻡���\n",
      "  �\n",
      "   񭞁񱃾􀨲󟩍뵓󴣾􉢇󞷆򴖾򈀴򨐛򡘏𬦐󌬂򲲼󴊩򞒳󋦢���\n",
      "  �񉒾񢕺𪪋󊒻󛼮󏓝񊤬񱅑󜅉􅒌𲙡򂲃𚘮򷲋𥚶𹒃:񖌑𺨆�\n",
      "  ���񤺐󕯍񏲞񏄹񲭀󌖈򀏴򺫵񝊶𒃨𵅍𭵼󀾈򯇔򴫫򲩏򣬨𛿖\n",
      "  򛻀񛼏􇍜𿐣򠢖񷍀򣎦򪁖󪪠𿏍󘥸򑰒񂪯񴮛󽰩򥔚􄆁𭻹���\n",
      "  �󳻡󞢼\n",
      "   񭞁񱃾󟩍뵓󴣾􉢇󞷆򴖾򈀴򨐛򡘏𬦐󌬂򲲼󴊩򞒳󋦢󻶚���\n",
      "  �񢕺𪪋󊒻󛼮󏓝񊤬񱅑󜅉􅒌𲙡󆅆񼵑򂲃𚘮򷲋𥚶𹒃:񖌑�\n",
      "  ���𑌿񤺐󕯍񏲞񏄹񲭀󌖈򀏴򺫵񝊶𒃨𵅍𭵼󀾈򯇔򴫫򲩏򣬨\n",
      "  𛿖򛻀񛼏􇍜𿐣򠢖񷍀򣎦򪁖󪪠𿏍󘥸򑰒񂪯񴮛󽰩򥔚􄆁���\n",
      "  �򣨡󳻡󞢼\n",
      "   򔪯񭞁񱃾􀨲󟩍뵓󴣾􉢇󞷆򴖾򈀴򨐛򡘏𬦐󌬂򲲼񉒾񢕺���\n",
      "  �󊒻󛼮󏓝񊤬񱅑󜅉􅒌𲙡󆅆񼵑򂲃𚘮򷲋𥚶𹒃:񖌑𺨆𑌿�\n",
      "  ���󕯍񏲞񏄹񲭀󌖈򀏴򺫵񝊶𒃨𵅍𭵼󀾈򯇔򴫫򲩏򣬨𛿖򛻀\n",
      "  񛼏􇍜𿐣򠢖񷍀򣎦򪁖󪪠𿏍󘥸򑰒񂪯񴮛󽰩򥔚􄆁𭻹򣨡���\n",
      "  �󞢼\n",
      "   񱃾􀨲󟩍뵓󴣾􉢇󞷆򴖾򈀴򨐛򡘏𬦐󌬂򲲼󴊩򞒳󋦢󻶚���\n",
      "  �񢕺𪪋󊒻󛼮󏓝񊤬񱅑󜅉􅒌𲙡󆅆񼵑򂲃𚘮򷲋𥚶𹒃:񖌑�\n",
      "  ���𑌿񤺐󕯍񏲞񏄹񲭀󌖈򀏴򺫵񝊶𒃨𵅍𭵼󀾈򯇔򴫫򲩏򣬨\n",
      "  𛿖򛻀񛼏􇍜𿐣򠢖񷍀򣎦򪁖󪪠𿏍󘥸򑰒񂪯񴮛󽰩򥔚􄆁���\n",
      "  �򣨡󳻡󞢼\n",
      "   񭞁񱃾􀨲󟩍뵓󴣾􉢇󞷆򴖾򈀴򨐛򡘏𬦐󌬂򲲼󴊩򞒳󋦢���\n",
      "  �񉒾񢕺𪪋󊒻󛼮񱅑󜅉􅒌𲙡󆅆񼵑򂲃𚘮򷲋𥚶𹒃:񖌑𺨆�\n",
      "  ���񤺐󕯍񏲞񏄹񲭀󌖈򀏴򺫵񝊶𒃨𵅍𭵼󀾈򯇔򴫫򲩏򣬨𛿖\n",
      "  򛻀񛼏􇍜𿐣򠢖񷍀򣎦򪁖󪪠𿏍󘥸򑰒񂪯񴮛󽰩򥔚􄆁𭻹���\n",
      "  �󳻡󞢼\n",
      "   񭞁񱃾􀨲󟩍뵓󴣾󞷆򴖾򈀴򨐛򡘏𬦐󌬂򲲼󴊩򞒳󋦢󻶚���\n",
      "  �񢕺𪪋󊒻󛼮󏓝񊤬񱅑󜅉􅒌𲙡󆅆񼵑򂲃𚘮򷲋𥚶𹒃:񖌑�\n",
      "  ���𑌿񤺐󕯍񏲞񏄹񲭀󌖈򀏴򺫵񝊶𒃨𵅍𭵼󀾈򯇔򴫫򲩏򣬨\n",
      "  𛿖򛻀񛼏􇍜𿐣򠢖񷍀򣎦򪁖󪪠𿏍󘥸򑰒񂪯񴮛󽰩򥔚􄆁���\n",
      "  �򣨡󳻡󞢼\n",
      "   񺺞򱛞󥤪󟢀󼦰򤳆󲾊𨩖󞮝𣋞򈇃򛧒𛼤𣿳򫔂𙖘󨤿񚐾��\n",
      "  ��񺮢𺨱󄝌𺚒󶮭򟯮򌟫񝷏򲑀󡀫񜅎򆻭𮪒:񅊐󸳀𭁗񣏯򁚣\n",
      "  󻨟𽭔𶇊򟂧򮽧𿌩󝢤񥀬󓿎􉕰񷏖񎎬񇥅򹍅񷢀񥡧󶅛񨯞���\n",
      "  �󅀐𭢣\n",
      "   󘣀ꧻ񹤪􃇁򙍊󌂻񉍊􋬳:񌮇󓩡𗗐󸷗󈠕󻽰񛟥𺧋񡌣𓦵��\n",
      "  ��񬠝񬜚𪲁򰩈𬢣񼶮򷩹񾯣倦򯥹񕭎\n",
      "   򔪯񭞁񱃾􀨲󟩍뵓󴣾􉢇󞷆򴖾򈀴򨐛򡘏𬦐󌬂򲲼󴊩򞒳���\n",
      "  �:񖌑𺨆𑌿񤺐󕯍񏲞񏄹񲭀󌖈򀏴򺫵񝊶𒃨𵅍𭵼󀾈򯇔򴫫�\n",
      "  ���򣬨𛿖򛻀񛼏􇍜𿐣򠢖񷍀򣎦򪁖󪪠𿏍󘥸򑰒񂪯񴮛󽰩򥔚\n",
      "  􄆁𭻹򣨡󳻡󞢼\n",
      "   񭞁񱃾􀨲󟩍뵓􉢇󞷆򴖾򈀴򨐛򡘏𬦐󌬂򲲼󴊩򞒳󋦢󻶚���\n",
      "  �񢕺𪪋󊒻󛼮󏓝񊤬񱅑󜅉􅒌𲙡󆅆񼵑򂲃𚘮򷲋𥚶𹒃:񖌑�\n",
      "  ���𑌿񤺐󕯍񏲞񏄹񲭀󌖈򀏴򺫵񝊶𒃨𵅍𭵼󀾈򯇔򴫫򲩏򣬨\n",
      "  𛿖򛻀񛼏􇍜𿐣򠢖񷍀򣎦򪁖󪪠𿏍󘥸򑰒񂪯񴮛󽰩򥔚􄆁���\n",
      "  �򣨡󳻡󞢼\n",
      "   󻶚񉒾񢕺𪪋󊒻󛼮󏓝񊤬񱅑󜅉􅒌𲙡󆅆񼵑򂲃𚘮򷲋𥚶��\n",
      "  ��󵚌:񖌑𺨆𑌿񤺐󕯍񏲞񏄹񲭀󌖈򀏴򺫵񝊶𒃨𵅍𭵼󀾈򯇔\n",
      "  򴫫򲩏򣬨𛿖򛻀񛼏􇍜𿐣򠢖񷍀򣎦򪁖󪪠𿏍󘥸򑰒񂪯񴮛���\n",
      "  �򥔚􄆁𭻹򣨡󳻡󞢼\n",
      "   򔪯񭞁񱃾􀨲󟩍뵓󴣾􉢇󞷆򴖾򈀴򨐛򡘏𬦐󌬂򲲼󴊩򞒳���\n",
      "  �󻶚񉒾񢕺𪪋󊒻󛼮󏓝񊤬񱅑󜅉􅒌񼵑򂲃𚘮򷲋𥚶𹒃:񖌑�\n",
      "  ���𑌿񤺐󕯍񏲞񏄹񲭀󌖈򀏴򺫵񝊶𒃨𵅍𭵼󀾈򯇔򴫫򲩏򣬨\n",
      "  𛿖򛻀񛼏􇍜𿐣򠢖񷍀򣎦򪁖󪪠𿏍󘥸򑰒񂪯񴮛󽰩򥔚􄆁���\n",
      "  �򣨡󳻡󞢼\n",
      "   񭞁񱃾􀨲󟩍뵓󴣾􉢇󞷆򴖾򈀴򨐛򡘏򞒳󋦢󻶚񉒾񢕺𪪋���\n",
      "  �󛼮󏓝񊤬񱅑󜅉􅒌𲙡󆅆񼵑򂲃𚘮򷲋𥚶𹒃:񖌑𺨆𑌿񤺐�\n",
      "  ���񏲞񏄹񲭀󌖈򀏴򺫵񝊶𒃨𵅍𭵼󀾈򯇔򴫫򲩏򣬨𛿖򛻀񛼏\n",
      "  􇍜𿐣򠢖񷍀򣎦򪁖󪪠𿏍󘥸򑰒񂪯񴮛󽰩򥔚􄆁𭻹򣨡󳻡���\n",
      "  �\n",
      "   򔪯񭞁񱃾􀨲󞷆򴖾򈀴򨐛򡘏𬦐󌬂򲲼󴊩򞒳󋦢󻶚񉒾񢕺��\n",
      "  ��󊒻󛼮󏓝񊤬񱅑󜅉􅒌𲙡󆅆񼵑򂲃𚘮򷲋𥚶𹒃:񖌑𺨆𑌿\n",
      "  񤺐󕯍񏲞񏄹񲭀󌖈򀏴򺫵񝊶𒃨𵅍𭵼󀾈򯇔򴫫򲩏򣬨𛿖���\n",
      "  �񛼏􇍜𿐣򠢖񷍀򣎦򪁖󪪠𿏍󘥸򑰒񂪯񴮛󽰩򥔚􄆁𭻹򣨡��\n",
      "  ��󞢼\n",
      "   򔪯񭞁񱃾􀨲󟩍뵓󴣾􉢇򡘏𬦐󌬂򲲼󴊩򞒳󋦢󻶚񉒾񢕺���\n",
      "  �󊒻󛼮󏓝񊤬񱅑󜅉􅒌𲙡󆅆񼵑򂲃𚘮򷲋𥚶𹒃:񖌑𺨆𑌿�\n",
      "  ���󕯍񏲞񏄹񲭀󌖈򀏴򺫵񝊶𒃨𵅍𭵼󀾈򯇔򴫫򲩏򣬨𛿖򛻀\n",
      "  񛼏􇍜𿐣򠢖񷍀򣎦򪁖󪪠𿏍󘥸򑰒񂪯񴮛󽰩򥔚􄆁𭻹򣨡���\n",
      "  �󞢼\n",
      "   򔪯񭞁񱃾􀨲󟩍뵓󴣾􉢇󞷆򴖾򈀴򨐛򡘏𬦐󌬂򲲼󴊩򞒳���\n",
      "  �󻶚𪪋󊒻󛼮󏓝񊤬񱅑󜅉􅒌𲙡󆅆񼵑򂲃𚘮򷲋𥚶𹒃:񖌑�\n",
      "  ���𑌿񤺐󕯍񏲞񏄹񲭀󌖈򀏴򺫵񝊶𒃨𵅍𭵼󀾈򯇔򴫫򲩏򣬨\n",
      "  𛿖򛻀񛼏􇍜𿐣򠢖񷍀򣎦򪁖󪪠𿏍󘥸򑰒񂪯񴮛󽰩򥔚􄆁���\n",
      "  �򣨡󳻡󞢼\n",
      "   뵓󴣾􉢇󞷆򴖾򈀴򨐛򡘏𬦐󌬂򲲼󴊩򞒳󋦢󻶚񉒾񢕺𪪋���\n",
      "  �󛼮󏓝񊤬񱅑󜅉􅒌𲙡󆅆񼵑򂲃𚘮򷲋𥚶𹒃:񖌑𺨆𑌿񤺐�\n",
      "  ���񏲞񏄹񲭀󌖈򀏴򺫵񝊶𒃨𵅍𭵼󀾈򯇔򴫫򲩏򣬨𛿖򛻀񛼏\n",
      "  􇍜𿐣򠢖񷍀򣎦򪁖󪪠𿏍󘥸򑰒񂪯񴮛󽰩򥔚􄆁𭻹򣨡󳻡���\n",
      "  �\n",
      "   񭞁񱃾􀨲󟩍뵓󴣾􉢇󞷆򈀴򨐛򡘏𬦐󌬂򲲼󴊩򞒳󋦢󻶚���\n",
      "  �񢕺𪪋󊒻󛼮󏓝񊤬񱅑󜅉􅒌𲙡󆅆񼵑򂲃𚘮򷲋𥚶𹒃:񖌑�\n",
      "  ���𑌿񤺐󕯍񏲞񏄹񲭀󌖈򀏴򺫵񝊶𒃨𵅍𭵼󀾈򯇔򴫫򲩏򣬨\n",
      "  𛿖򛻀񛼏􇍜𿐣򠢖񷍀򣎦򪁖󪪠𿏍󘥸򑰒񂪯񴮛󽰩򥔚􄆁���\n",
      "  �򣨡󳻡󞢼\n",
      "   񭞁񱃾􀨲󟩍뵓󴣾􉢇󞷆򴖾򈀴򨐛򡘏𬦐󌬂򲲼󴊩򞒳󋦢���\n",
      "  �񉒾󊒻󛼮󏓝񊤬񱅑󜅉􅒌𲙡󆅆񼵑򂲃𚘮򷲋𥚶𹒃:񖌑𺨆�\n",
      "  ���񤺐󕯍񏲞񏄹񲭀󌖈򀏴򺫵񝊶𒃨𵅍𭵼󀾈򯇔򴫫򲩏򣬨𛿖\n",
      "  򛻀񛼏􇍜𿐣򠢖񷍀򣎦򪁖󪪠𿏍󘥸򑰒񂪯񴮛󽰩򥔚􄆁𭻹���\n",
      "  �󳻡󞢼\n",
      "   񭞁񱃾􀨲󟩍󴣾􉢇󞷆򴖾򈀴򨐛򡘏𬦐󌬂򲲼󴊩򞒳󋦢󻶚��\n",
      "  ��񢕺𪪋󊒻󛼮󏓝񊤬񱅑󜅉􅒌𲙡󆅆񼵑򂲃𚘮򷲋𥚶𹒃:񖌑\n",
      "  𺨆𑌿񤺐󕯍񏲞񏄹񲭀󌖈򀏴򺫵񝊶𒃨𵅍𭵼󀾈򯇔򴫫򲩏���\n",
      "  �𛿖򛻀񛼏􇍜𿐣򠢖񷍀򣎦򪁖󪪠𿏍󘥸򑰒񂪯񴮛󽰩򥔚􄆁��\n",
      "  ��򣨡󳻡󞢼\n",
      "   񭞁񱃾􀨲󟩍뵓󴣾􉢇򴖾򈀴򨐛򡘏𬦐󌬂򲲼󴊩򞒳󋦢󻶚���\n",
      "  �񢕺𪪋󊒻󛼮󏓝񊤬񱅑󜅉􅒌𲙡󆅆񼵑򂲃𚘮򷲋𥚶𹒃:񖌑�\n",
      "  ���𑌿񤺐󕯍񏲞񏄹񲭀󌖈򀏴򺫵񝊶𒃨𵅍𭵼󀾈򯇔򴫫򲩏򣬨\n",
      "  𛿖򛻀񛼏􇍜𿐣򠢖񷍀򣎦򪁖󪪠𿏍󘥸򑰒񂪯񴮛󽰩򥔚􄆁���\n",
      "  �򣨡󳻡󞢼\n",
      "   񑉗瘋𥨊񯲙󿭀򡪅񍵸𘊲𚀟񆅙洕:󗇹󔴱򯖼􇅁󊠄򗌈\n",
      "   󟩍뵓󴣾􉢇󞷆򴖾򈀴򨐛򡘏𬦐󌬂򲲼󴊩򞒳󋦢󻶚񉒾񢕺���\n",
      "  �󊒻󛼮󏓝񊤬񱅑󜅉􅒌𲙡󆅆񼵑򂲃𚘮򷲋𥚶𹒃:񖌑𺨆𑌿�\n",
      "  ���󕯍񏲞񏄹񲭀󌖈򀏴򺫵񝊶𒃨𵅍𭵼󀾈򯇔򴫫򲩏򣬨𛿖򛻀\n",
      "  񛼏􇍜𿐣򠢖񷍀򣎦򪁖󪪠𿏍󘥸򑰒񂪯񴮛󽰩򥔚􄆁𭻹򣨡���\n",
      "  �󞢼\n",
      "   򔪯񭞁󟩍뵓󴣾􉢇󞷆򴖾򈀴򨐛򡘏𬦐󌬂򲲼󴊩򞒳󋦢󻶚���\n",
      "  �񢕺𪪋󊒻󛼮󏓝񊤬񱅑󜅉􅒌𲙡󆅆񼵑򂲃𚘮򷲋𥚶𹒃:񖌑�\n",
      "  ���𑌿񤺐󕯍񏲞񏄹񲭀󌖈򀏴򺫵񝊶𒃨𵅍𭵼󀾈򯇔򴫫򲩏򣬨\n",
      "  𛿖򛻀񛼏􇍜𿐣򠢖񷍀򣎦򪁖󪪠𿏍󘥸򑰒񂪯񴮛󽰩򥔚􄆁���\n",
      "  �򣨡󳻡󞢼\n",
      "   򔪯񭞁񱃾􀨲󟩍뵓󴣾􉢇򈀴򨐛򡘏𬦐󌬂򲲼󴊩򞒳󋦢󻶚���\n",
      "  �񢕺𪪋󊒻󛼮󏓝񊤬񱅑󜅉􅒌𲙡󆅆񼵑򂲃𚘮򷲋𥚶𹒃:񖌑�\n",
      "  ���𑌿񤺐󕯍񏲞񏄹񲭀󌖈򀏴򺫵񝊶𒃨𵅍𭵼󀾈򯇔򴫫򲩏򣬨\n",
      "  𛿖򛻀񛼏􇍜𿐣򠢖񷍀򣎦򪁖󪪠𿏍󘥸򑰒񂪯񴮛󽰩򥔚􄆁���\n",
      "  �򣨡󳻡󞢼\n",
      "   񭞁񱃾􀨲󟩍뵓󴣾􉢇󞷆򴖾򈀴򨐛򡘏𬦐󌬂򲲼󴊩򞒳󋦢���\n",
      "  �񉒾񢕺𪪋󊒻󛼮󏓝񊤬񱅑𹒃:񖌑𺨆𑌿񤺐󕯍񏲞񏄹񲭀󌖈�\n",
      "  ���򺫵񝊶𒃨𵅍𭵼󀾈򯇔򴫫򲩏򣬨𛿖򛻀񛼏􇍜𿐣򠢖񷍀򣎦\n",
      "  򪁖󪪠𿏍󘥸򑰒񂪯񴮛󽰩򥔚􄆁𭻹򣨡󳻡󞢼\n",
      "   񭞁񱃾􀨲󟩍뵓󴣾􉢇󞷆򴖾򈀴򨐛򡘏𬦐򲲼󴊩򞒳󋦢󻶚���\n",
      "  �񢕺𪪋󊒻󛼮󏓝񊤬񱅑󜅉􅒌𲙡󆅆񼵑򂲃𚘮򷲋𥚶𹒃:񖌑�\n",
      "  ���𑌿񤺐󕯍񏲞񏄹񲭀󌖈򀏴򺫵񝊶𒃨𵅍𭵼󀾈򯇔򴫫򲩏򣬨\n",
      "  𛿖򛻀񛼏􇍜𿐣򠢖񷍀򣎦򪁖󪪠𿏍󘥸򑰒񂪯񴮛󽰩򥔚􄆁���\n",
      "  �򣨡󳻡󞢼\n",
      "   񭞁񱃾􀨲󟩍뵓󴣾􉢇󞷆򴖾򈀴򨐛򡘏𬦐󌬂򲲼󴊩򞒳󋦢���\n",
      "  �񉒾񢕺𪪋󊒻󛼮󏓝񊤬񱅑󜅉𲙡󆅆񼵑򂲃𚘮򷲋𥚶𹒃:񖌑�\n",
      "  ���𑌿񤺐󕯍񏲞񏄹񲭀󌖈򀏴򺫵񝊶𒃨𵅍𭵼󀾈򯇔򴫫򲩏򣬨\n",
      "  𛿖򛻀񛼏􇍜𿐣򠢖񷍀򣎦򪁖󪪠𿏍󘥸򑰒񂪯񴮛󽰩򥔚􄆁���\n",
      "  �򣨡󳻡󞢼\n",
      "   :󭉺𘖛𳙿𸆱񿗨퍝󀓍򫛨𬾙󒂯󙖄􄪓򼶚𴼙윙򕬄򝡮򄴊���\n",
      "  �񙖟򷀇񸆡譀񟭟򢼩󾙫񬁱򗙰򤅖🧌\n",
      "   򔪯񭞁񱃾􀨲󟩍뵓󴣾􉢇󞷆򴖾򈀴򨐛󌬂򲲼󴊩򞒳󋦢󻶚���\n",
      "  �񢕺𪪋󊒻󛼮󏓝񊤬񱅑󜅉􅒌𲙡󆅆񼵑򂲃𚘮򷲋𥚶𹒃:񖌑�\n",
      "  ���𑌿񤺐󕯍񏲞񏄹񲭀󌖈򀏴򺫵񝊶𒃨𵅍𭵼󀾈򯇔򴫫򲩏򣬨\n",
      "  𛿖򛻀񛼏􇍜𿐣򠢖񷍀򣎦򪁖󪪠𿏍󘥸򑰒񂪯񴮛󽰩򥔚􄆁���\n",
      "  �򣨡󳻡󞢼\n",
      "   񭞁񱃾􀨲󟩍뵓󴣾􉢇󞷆򴖾򈀴򨐛򡘏𬦐󌬂򲲼󴊩򞒳󋦢���\n",
      "  �񉒾񢕺𪪋󊒻󛼮󏓝񊤬񱅑󜅉􅒌𲙡󆅆񼵑򷲋𥚶𹒃:񖌑𺨆�\n",
      "  ���񤺐󕯍񏲞񏄹񲭀󌖈򀏴򺫵񝊶𒃨𵅍𭵼󀾈򯇔򴫫򲩏򣬨𛿖\n",
      "  򛻀񛼏􇍜𿐣򠢖񷍀򣎦򪁖󪪠𿏍󘥸򑰒񂪯񴮛󽰩򥔚􄆁𭻹���\n",
      "  �󳻡󞢼\n",
      "   󀓅󴪇򀁢𩌇񗎽񅖣𶼏𳈨蠎񂮜򳊊񎊭򱽭򻘉󋕞򰬫󣜔𵈟���\n",
      "  �򪾜񅵏򍥌򯁁񦛜񿜾󞉜쉴񗪦񼥨򬺢񸛙򬗯򆋃뮢:𺘉򟫺󇽻���\n",
      "  �񞚐򔋐򛂇󜹎񯗉򩥻󞥊󼟩颣󊶒󋰵봲\n",
      "   򔪯񭞁񱃾􀨲󟩍뵓󴣾􉢇󞷆򴖾򈀴򨐛򡘏𬦐󌬂򲲼󴊩򞒳���\n",
      "  �󻶚󛼮󏓝񊤬񱅑󜅉􅒌𲙡󆅆񼵑򂲃𚘮򷲋𥚶𹒃:񖌑𺨆𑌿�\n",
      "  ���󕯍񏲞񏄹񲭀󌖈򀏴򺫵񝊶𒃨𵅍𭵼󀾈򯇔򴫫򲩏򣬨𛿖򛻀\n",
      "  񛼏􇍜𿐣򠢖񷍀򣎦򪁖󪪠𿏍󘥸򑰒񂪯񴮛󽰩򥔚􄆁𭻹򣨡���\n",
      "  �󞢼\n",
      "   񭞁񱃾􀨲󟩍뵓󴣾􉢇󞷆򴖾򈀴򨐛򡘏𬦐󌬂򲲼󴊩򞒳󋦢���\n",
      "  �񉒾񢕺𪪋󊒻󛼮󏓝񊤬񱅑󜅉􅒌𲙡󆅆񼵑𹒃:񖌑𺨆𑌿񤺐�\n",
      "  ���񏲞񏄹񲭀󌖈򀏴򺫵񝊶𒃨𵅍𭵼󀾈򯇔򴫫򲩏򣬨𛿖򛻀񛼏\n",
      "  􇍜𿐣򠢖񷍀򣎦򪁖󪪠𿏍󘥸򑰒񂪯񴮛󽰩򥔚􄆁𭻹򣨡󳻡���\n",
      "  �\n",
      "   񭞁񱃾􀨲󟩍뵓󴣾􉢇󞷆򴖾򈀴򨐛򡘏𬦐󌬂򲲼󴊩򞒳󻶚���\n",
      "  �񢕺𪪋󊒻󛼮󏓝񊤬񱅑󜅉􅒌𲙡󆅆񼵑򂲃𚘮򷲋𥚶𹒃:񖌑�\n",
      "  ���𑌿񤺐󕯍񏲞񏄹񲭀󌖈򀏴򺫵񝊶𒃨𵅍𭵼󀾈򯇔򴫫򲩏򣬨\n",
      "  𛿖򛻀񛼏􇍜𿐣򠢖񷍀򣎦򪁖󪪠𿏍󘥸򑰒񂪯񴮛󽰩򥔚􄆁���\n",
      "  �򣨡󳻡󞢼\n",
      "   񭞁񱃾􀨲󟩍뵓󴣾􉢇󞷆򴖾򈀴򨐛򡘏󌬂򲲼󴊩򞒳󋦢󻶚���\n",
      "  �񢕺𪪋󊒻󛼮󏓝񊤬񱅑󜅉􅒌𲙡󆅆񼵑򂲃𚘮򷲋𥚶𹒃:񖌑�\n"
     ]
    },
    {
     "name": "stdout",
     "output_type": "stream",
     "text": [
      "  ���𑌿񤺐󕯍񏲞񏄹񲭀󌖈򀏴򺫵񝊶𒃨𵅍𭵼󀾈򯇔򴫫򲩏򣬨\n",
      "  𛿖򛻀񛼏􇍜𿐣򠢖񷍀򣎦򪁖󪪠𿏍󘥸򑰒񂪯񴮛󽰩򥔚􄆁���\n",
      "  �򣨡󳻡󞢼\n",
      "   򔪯񭞁񱃾􀨲󟩍뵓󴣾􉢇󞷆󋦢󻶚񉒾񢕺𪪋󊒻󛼮󏓝񊤬���\n",
      "  �󜅉􅒌𲙡󆅆񼵑򂲃𚘮򷲋𥚶𹒃:񖌑𺨆𑌿񤺐󕯍񏲞񏄹񲭀�\n",
      "  ���򀏴򺫵񝊶𒃨𵅍𭵼󀾈򯇔򴫫򲩏򣬨𛿖򛻀񛼏􇍜𿐣򠢖񷍀\n",
      "  򣎦򪁖󪪠𿏍󘥸򑰒񂪯񴮛󽰩򥔚􄆁𭻹򣨡󳻡󞢼\n",
      "   򔪯񭞁񱃾􀨲󟩍뵓󴣾􉢇󞷆򴖾򈀴򨐛򡘏𬦐󴊩򞒳󋦢󻶚���\n",
      "  �񢕺𪪋󊒻󛼮󏓝񊤬񱅑󜅉􅒌𲙡󆅆񼵑򂲃𚘮򷲋𥚶𹒃:񖌑�\n",
      "  ���𑌿񤺐󕯍񏲞񏄹񲭀󌖈򀏴򺫵񝊶𒃨𵅍𭵼󀾈򯇔򴫫򲩏򣬨\n",
      "  𛿖򛻀񛼏􇍜𿐣򠢖񷍀򣎦򪁖󪪠𿏍󘥸򑰒񂪯񴮛󽰩򥔚􄆁���\n",
      "  �򣨡󳻡󞢼\n",
      "   񭞁񱃾􀨲󟩍뵓󴣾􉢇󞷆򴖾򈀴򨐛򡘏𬦐󌬂򲲼󴊩򞒳󋦢���\n",
      "  �􅒌𲙡󆅆񼵑򂲃𚘮򷲋𥚶𹒃:񖌑𺨆𑌿񤺐󕯍񏲞񏄹񲭀󌖈�\n",
      "  ���򺫵񝊶𒃨𵅍𭵼󀾈򯇔򴫫򲩏򣬨𛿖򛻀񛼏􇍜𿐣򠢖񷍀򣎦\n",
      "  򪁖󪪠𿏍󘥸򑰒񂪯񴮛󽰩򥔚􄆁𭻹򣨡󳻡󞢼\n",
      "   񭞁􀨲󟩍뵓󴣾􉢇󞷆򴖾򈀴򨐛򡘏𬦐󌬂򲲼󴊩򞒳󋦢󻶚���\n",
      "  �񢕺𪪋󊒻󛼮󏓝񊤬񱅑󜅉􅒌𲙡󆅆񼵑򂲃𚘮򷲋𥚶𹒃:񖌑�\n",
      "  ���𑌿񤺐󕯍񏲞񏄹񲭀󌖈򀏴򺫵񝊶𒃨𵅍𭵼󀾈򯇔򴫫򲩏򣬨\n",
      "  𛿖򛻀񛼏􇍜𿐣򠢖񷍀򣎦򪁖󪪠𿏍󘥸򑰒񂪯񴮛󽰩򥔚􄆁���\n",
      "  �򣨡󳻡󞢼\n",
      "   񭞁񱃾􀨲󟩍뵓󴣾􉢇󞷆򴖾򨐛򡘏𬦐󌬂򲲼󴊩򞒳󋦢󻶚���\n",
      "  �񢕺𪪋󊒻󛼮󏓝񊤬񱅑󜅉􅒌𲙡󆅆񼵑򂲃𚘮򷲋𥚶𹒃:񖌑�\n",
      "  ���𑌿񤺐󕯍񏲞񏄹񲭀󌖈򀏴򺫵񝊶𒃨𵅍𭵼󀾈򯇔򴫫򲩏򣬨\n",
      "  𛿖򛻀񛼏􇍜𿐣򠢖񷍀򣎦򪁖󪪠𿏍󘥸򑰒񂪯񴮛󽰩򥔚􄆁���\n",
      "  �򣨡󳻡󞢼\n",
      "   񭞁񱃾􀨲󟩍뵓󴣾􉢇󞷆򴖾򈀴򨐛򡘏𬦐󌬂򲲼󴊩򞒳󋦢���\n",
      "  �񉒾񢕺𪪋󊒻󛼮󏓝񊤬񱅑󜅉􅒌𲙡񼵑򂲃𚘮򷲋𥚶𹒃:񖌑�\n",
      "  ���𑌿񤺐󕯍񏲞񏄹񲭀󌖈򀏴򺫵񝊶𒃨𵅍𭵼󀾈򯇔򴫫򲩏򣬨\n",
      "  𛿖򛻀񛼏􇍜𿐣򠢖񷍀򣎦򪁖󪪠𿏍󘥸򑰒񂪯񴮛󽰩򥔚􄆁���\n",
      "  �򣨡󳻡󞢼\n",
      "   󆯬񣒱󝂿񵎆򸚩𙶘𧦢񌓦𒫁􎀭򕫷񓞭맑񌝱񮱊󗗀𰼯񯕳���\n",
      "  �󊑳򱞶𫧔󡑇𝛜񷨅򷥢󡲦񘌴񯍻񈋃񨴴𸂋:񜊇񧏀񻯥𙼿��\n",
      "  �𺀊\n",
      "   򔪯񭞁񱃾􀨲󟩍뵓󴣾􉢇󞷆򴖾򈀴򨐛򡘏𬦐󌬂򲲼󋦢󻶚���\n",
      "  �񢕺𪪋󊒻󛼮󏓝񊤬񱅑󜅉􅒌𲙡󆅆񼵑򂲃𚘮򷲋𥚶𹒃:񖌑�\n",
      "  ���𑌿񤺐󕯍񏲞񏄹񲭀󌖈򀏴򺫵񝊶𒃨𵅍𭵼󀾈򯇔򴫫򲩏򣬨\n",
      "  𛿖򛻀񛼏􇍜𿐣򠢖񷍀򣎦򪁖󪪠𿏍󘥸򑰒񂪯񴮛󽰩򥔚􄆁���\n",
      "  �򣨡󳻡󞢼\n",
      "   򔪯񭞁񱃾􀨲󟩍뵓󴣾􉢇󞷆򴖾򈀴򨐛򡘏𬦐󌬂򲲼󴊩򞒳���\n",
      "  �󻶚񉒾񢕺𪪋󊒻񊤬񱅑󜅉􅒌𲙡󆅆񼵑򂲃𚘮򷲋𥚶𹒃:񖌑�\n",
      "  ���𑌿񤺐󕯍񏲞񏄹񲭀󌖈򀏴򺫵񝊶𒃨𵅍𭵼󀾈򯇔򴫫򲩏򣬨\n",
      "  𛿖򛻀񛼏􇍜𿐣򠢖񷍀򣎦򪁖󪪠𿏍󘥸򑰒񂪯񴮛󽰩򥔚􄆁���\n",
      "  �򣨡󳻡󞢼\n",
      "   񭞁񱃾􀨲󟩍뵓󴣾􉢇󞷆򴖾򈀴򨐛򡘏𬦐󌬂󴊩򞒳󋦢󻶚���\n",
      "  �񢕺𪪋󊒻󛼮󏓝񊤬񱅑󜅉􅒌𲙡󆅆񼵑򂲃𚘮򷲋𥚶𹒃:񖌑�\n",
      "  ���𑌿񤺐󕯍񏲞񏄹񲭀󌖈򀏴򺫵񝊶𒃨𵅍𭵼󀾈򯇔򴫫򲩏򣬨\n",
      "  𛿖򛻀񛼏􇍜𿐣򠢖񷍀򣎦򪁖󪪠𿏍󘥸򑰒񂪯񴮛󽰩򥔚􄆁���\n",
      "  �򣨡󳻡󞢼\n",
      "   񭞁񱃾􀨲󟩍뵓󴣾􉢇󞷆򴖾򈀴򨐛򡘏𬦐󌬂򲲼󴊩򞒳󋦢���\n",
      "  �񉒾񢕺𪪋󊒻󛼮񊤬񱅑󜅉􅒌𲙡󆅆񼵑򂲃𚘮򷲋𥚶𹒃:񖌑�\n",
      "  ���𑌿񤺐󕯍񏲞񏄹񲭀󌖈򀏴򺫵񝊶𒃨𵅍𭵼󀾈򯇔򴫫򲩏򣬨\n",
      "  𛿖򛻀񛼏􇍜𿐣򠢖񷍀򣎦򪁖󪪠𿏍󘥸򑰒񂪯񴮛󽰩򥔚􄆁���\n",
      "  �򣨡󳻡󞢼]}\n"
     ]
    },
    {
     "data": {
      "text/plain": [
       "false"
      ]
     },
     "execution_count": 289,
     "metadata": {},
     "output_type": "execute_result"
    }
   ],
   "source": [
    "properties.Run(gopter.ConsoleReporter(false))"
   ]
  },
  {
   "cell_type": "code",
   "execution_count": 291,
   "metadata": {
    "slideshow": {
     "slide_type": "slide"
    }
   },
   "outputs": [],
   "source": [
    "type StorageService struct {\n",
    "    db DocumentStore\n",
    "}\n",
    "\n",
    "func NewStorageService(db DocumentStore) *StorageService {\n",
    "    return &StorageService{\n",
    "        db: db,\n",
    "    }\n",
    "}\n",
    "\n",
    "func (s *StorageService) Add(identifier string, data string) bool {\n",
    "    _, exists := s.db.Read(identifier)\n",
    "    \n",
    "    // since db.Add seems to panic, we should probably use recover (try/catch) to return our `ok`\n",
    "    if !exists && len(identifier) < 36 {\n",
    "        s.db.Add(identifier, data)\n",
    "        return true\n",
    "    }\n",
    "    \n",
    "    return false\n",
    "}\n",
    "\n",
    "func (s *StorageService) Read(identifier string) (string, bool) {\n",
    "    return s.db.Read(identifier)\n",
    "}"
   ]
  },
  {
   "cell_type": "code",
   "execution_count": 292,
   "metadata": {
    "slideshow": {
     "slide_type": "slide"
    }
   },
   "outputs": [
    {
     "name": "stdout",
     "output_type": "stream",
     "text": [
      "+ Getting an inserted entry should return that entry: OK, passed 100 tests.\n"
     ]
    },
    {
     "data": {
      "text/plain": [
       "true"
      ]
     },
     "execution_count": 292,
     "metadata": {},
     "output_type": "execute_result"
    }
   ],
   "source": [
    "properties.Run(gopter.ConsoleReporter(false))"
   ]
  },
  {
   "cell_type": "markdown",
   "metadata": {
    "slideshow": {
     "slide_type": "slide"
    }
   },
   "source": [
    "## What did we learn about CrapDB (that we might have missed with examples)?\n",
    "* Inserting to an existing key panics\n",
    "* ids can't be too long"
   ]
  },
  {
   "cell_type": "markdown",
   "metadata": {
    "slideshow": {
     "slide_type": "fragment"
    }
   },
   "source": [
    "* **we weren't able to imagine all of the edge cases**"
   ]
  },
  {
   "cell_type": "markdown",
   "metadata": {
    "slideshow": {
     "slide_type": "slide"
    }
   },
   "source": [
    "## Why I chose to use gopter\n",
    "\n",
    "* supports shrinking\n",
    "* allows you to create multiple generators for the same type\n",
    "* generators are composable\n",
    "* library maintainer is active and contributing PRs is straight forward"
   ]
  },
  {
   "cell_type": "markdown",
   "metadata": {
    "slideshow": {
     "slide_type": "slide"
    }
   },
   "source": [
    "## What have property based tests caught so far\n",
    "\n",
    "* unhandled nil pointers\n",
    "* storage size limits\n",
    "    * exceeding MySQL varchar length\n",
    "    * exceeding DynamoDB max row size\n",
    "* cases not covered by example based test\n",
    "    * bug where JOIN on a Jet query only returned ever returned a list of one item\n",
    "* inconsistent inputs and outputs when inserting into DynamoDB\n",
    "    * When inserting int64s we would get back float64s back\n",
    "    * inserting an empty map doesn't insert anything into DynamoDB so you can't check if a key exists on an empty map"
   ]
  },
  {
   "cell_type": "markdown",
   "metadata": {
    "slideshow": {
     "slide_type": "slide"
    }
   },
   "source": [
    "## Other things to note\n",
    "* The more the tests run through the pipeline, the more different scenarios will be run."
   ]
  },
  {
   "cell_type": "markdown",
   "metadata": {
    "slideshow": {
     "slide_type": "notes"
    }
   },
   "source": [
    "* since the seed will be different every time. On a failed test, the seed is printed so that **scenarios that rarely occur are reproduceable**"
   ]
  },
  {
   "cell_type": "markdown",
   "metadata": {
    "slideshow": {
     "slide_type": "slide"
    }
   },
   "source": [
    "## Links\n",
    "- https://dev.to/jdsteinhauser/intro-to-property-based-testing-2cj8\n",
    "- https://github.com/leanovate/gopter"
   ]
  }
 ],
 "metadata": {
  "celltoolbar": "Slideshow",
  "kernelspec": {
   "display_name": "Go",
   "language": "go",
   "name": "gophernotes"
  },
  "language_info": {
   "codemirror_mode": "",
   "file_extension": ".go",
   "mimetype": "",
   "name": "go",
   "nbconvert_exporter": "",
   "pygments_lexer": "",
   "version": "go1.11.4"
  }
 },
 "nbformat": 4,
 "nbformat_minor": 2
}
